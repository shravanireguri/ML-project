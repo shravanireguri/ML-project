{
  "nbformat": 4,
  "nbformat_minor": 0,
  "metadata": {
    "colab": {
      "provenance": [],
      "include_colab_link": true
    },
    "kernelspec": {
      "name": "python3",
      "display_name": "Python 3"
    },
    "language_info": {
      "name": "python"
    }
  },
  "cells": [
    {
      "cell_type": "markdown",
      "metadata": {
        "id": "view-in-github",
        "colab_type": "text"
      },
      "source": [
        "<a href=\"https://colab.research.google.com/github/shravanireguri/ML-project/blob/main/Child_Malnutrition_Detection.ipynb\" target=\"_parent\"><img src=\"https://colab.research.google.com/assets/colab-badge.svg\" alt=\"Open In Colab\"/></a>"
      ]
    },
    {
      "cell_type": "code",
      "execution_count": null,
      "metadata": {
        "id": "uxzFEL3xqnnw"
      },
      "outputs": [],
      "source": [
        "import pandas as pd\n",
        "import seaborn as sns\n",
        "import matplotlib.pyplot as plt\n",
        "from sklearn.preprocessing import LabelEncoder\n",
        "from sklearn.model_selection import train_test_split\n",
        "from sklearn.neighbors import KNeighborsClassifier\n",
        "from sklearn.metrics import confusion_matrix, accuracy_score, recall_score, precision_score, f1_score\n",
        "from sklearn.linear_model import LogisticRegression\n",
        "from sklearn.tree import DecisionTreeClassifier\n",
        "from sklearn.ensemble import RandomForestClassifier\n",
        "from sklearn.model_selection import cross_val_score\n",
        "import joblib\n",
        "import numpy as np\n",
        "import pickle\n",
        "import gradio as gr"
      ]
    },
    {
      "cell_type": "code",
      "source": [
        "!pip install -q gradio"
      ],
      "metadata": {
        "colab": {
          "base_uri": "https://localhost:8080/"
        },
        "id": "0Wc5eKSDgplb",
        "outputId": "02a711a8-c46b-45a4-a7db-09b32da41977"
      },
      "execution_count": null,
      "outputs": [
        {
          "output_type": "stream",
          "name": "stdout",
          "text": [
            "\u001b[2K     \u001b[90m━━━━━━━━━━━━━━━━━━━━━━━━━━━━━━━━━━━━━━━━\u001b[0m \u001b[32m20.2/20.2 MB\u001b[0m \u001b[31m25.7 MB/s\u001b[0m eta \u001b[36m0:00:00\u001b[0m\n",
            "\u001b[2K     \u001b[90m━━━━━━━━━━━━━━━━━━━━━━━━━━━━━━━━━━━━━━━━\u001b[0m \u001b[32m66.2/66.2 kB\u001b[0m \u001b[31m6.8 MB/s\u001b[0m eta \u001b[36m0:00:00\u001b[0m\n",
            "\u001b[?25h  Preparing metadata (setup.py) ... \u001b[?25l\u001b[?25hdone\n",
            "\u001b[2K     \u001b[90m━━━━━━━━━━━━━━━━━━━━━━━━━━━━━━━━━━━━━━\u001b[0m \u001b[32m298.2/298.2 kB\u001b[0m \u001b[31m19.8 MB/s\u001b[0m eta \u001b[36m0:00:00\u001b[0m\n",
            "\u001b[2K     \u001b[90m━━━━━━━━━━━━━━━━━━━━━━━━━━━━━━━━━━━━━━━━\u001b[0m \u001b[32m75.7/75.7 kB\u001b[0m \u001b[31m7.3 MB/s\u001b[0m eta \u001b[36m0:00:00\u001b[0m\n",
            "\u001b[2K     \u001b[90m━━━━━━━━━━━━━━━━━━━━━━━━━━━━━━━━━━━━━━\u001b[0m \u001b[32m294.9/294.9 kB\u001b[0m \u001b[31m30.2 MB/s\u001b[0m eta \u001b[36m0:00:00\u001b[0m\n",
            "\u001b[2K     \u001b[90m━━━━━━━━━━━━━━━━━━━━━━━━━━━━━━━━━━━━━━\u001b[0m \u001b[32m138.7/138.7 kB\u001b[0m \u001b[31m16.8 MB/s\u001b[0m eta \u001b[36m0:00:00\u001b[0m\n",
            "\u001b[2K     \u001b[90m━━━━━━━━━━━━━━━━━━━━━━━━━━━━━━━━━━━━━━━━\u001b[0m \u001b[32m45.7/45.7 kB\u001b[0m \u001b[31m5.0 MB/s\u001b[0m eta \u001b[36m0:00:00\u001b[0m\n",
            "\u001b[2K     \u001b[90m━━━━━━━━━━━━━━━━━━━━━━━━━━━━━━━━━━━━━━━━\u001b[0m \u001b[32m59.5/59.5 kB\u001b[0m \u001b[31m7.6 MB/s\u001b[0m eta \u001b[36m0:00:00\u001b[0m\n",
            "\u001b[2K     \u001b[90m━━━━━━━━━━━━━━━━━━━━━━━━━━━━━━━━━━━━━━\u001b[0m \u001b[32m129.9/129.9 kB\u001b[0m \u001b[31m16.8 MB/s\u001b[0m eta \u001b[36m0:00:00\u001b[0m\n",
            "\u001b[2K     \u001b[90m━━━━━━━━━━━━━━━━━━━━━━━━━━━━━━━━━━━━━━━━\u001b[0m \u001b[32m58.3/58.3 kB\u001b[0m \u001b[31m7.8 MB/s\u001b[0m eta \u001b[36m0:00:00\u001b[0m\n",
            "\u001b[2K     \u001b[90m━━━━━━━━━━━━━━━━━━━━━━━━━━━━━━━━━━━━━━━━\u001b[0m \u001b[32m67.0/67.0 kB\u001b[0m \u001b[31m9.6 MB/s\u001b[0m eta \u001b[36m0:00:00\u001b[0m\n",
            "\u001b[2K     \u001b[90m━━━━━━━━━━━━━━━━━━━━━━━━━━━━━━━━━━━━━━━━\u001b[0m \u001b[32m76.0/76.0 kB\u001b[0m \u001b[31m10.2 MB/s\u001b[0m eta \u001b[36m0:00:00\u001b[0m\n",
            "\u001b[?25h  Building wheel for ffmpy (setup.py) ... \u001b[?25l\u001b[?25hdone\n"
          ]
        }
      ]
    },
    {
      "cell_type": "code",
      "source": [
        "df = pd.read_excel('/content/JME_Country_Estimates_April_2021.xlsx', sheet_name = 'Survey Estimates')\n",
        "df.shape"
      ],
      "metadata": {
        "colab": {
          "base_uri": "https://localhost:8080/"
        },
        "id": "go6kIF43q31y",
        "outputId": "9c4dae45-72e8-4671-ba74-f13ee3b07668"
      },
      "execution_count": null,
      "outputs": [
        {
          "output_type": "execute_result",
          "data": {
            "text/plain": [
              "(997, 29)"
            ]
          },
          "metadata": {},
          "execution_count": 2
        }
      ]
    },
    {
      "cell_type": "code",
      "source": [
        "df.drop(['United Nations Region', 'United Nations Sub-Region', 'SDG Region', 'UNICEF Region', 'UNICEF Sub-Region', 'WHO Region', 'World Bank Region', 'LIFD', 'UNICEF Survey ID', 'WHO Global Database Number', 'WHZ Survey Sample (N)', 'Notes', 'Report Author', 'Source', 'Short Source', 'Fieldwork Period'], axis = 1, inplace = True)\n"
      ],
      "metadata": {
        "id": "XVe9DJGTrPQE"
      },
      "execution_count": null,
      "outputs": []
    },
    {
      "cell_type": "code",
      "source": [
        "df.drop([\"U5 Population ('000s)\"], axis = 1, inplace = True)"
      ],
      "metadata": {
        "id": "-42ybEhSt-RS"
      },
      "execution_count": null,
      "outputs": []
    },
    {
      "cell_type": "code",
      "source": [
        "df.head()"
      ],
      "metadata": {
        "id": "2-1Pm0kfrPYK",
        "outputId": "7ceb581b-fc59-4a25-b4e5-ea5d6ea4050a",
        "colab": {
          "base_uri": "https://localhost:8080/",
          "height": 310
        }
      },
      "execution_count": null,
      "outputs": [
        {
          "output_type": "execute_result",
          "data": {
            "text/plain": [
              "  ISO code Country and areas Survey year  Year*  \\\n",
              "0      AFG       AFGHANISTAN        1997   1997   \n",
              "1      AFG       AFGHANISTAN        2004   2004   \n",
              "2      AFG       AFGHANISTAN        2013   2013   \n",
              "3      AFG       AFGHANISTAN        2018   2018   \n",
              "4      AGO            ANGOLA        1996   1996   \n",
              "\n",
              "  World Bank Income Classification                               LDC  \\\n",
              "0                       Low Income  Least Developed Countries (LDCs)   \n",
              "1                       Low Income  Least Developed Countries (LDCs)   \n",
              "2                       Low Income  Least Developed Countries (LDCs)   \n",
              "3                       Low Income  Least Developed Countries (LDCs)   \n",
              "4              Lower Middle Income  Least Developed Countries (LDCs)   \n",
              "\n",
              "                              LLDC or SIDS  Severe Wasting  Wasting  \\\n",
              "0  Landlocked developing countries (LLDCs)             NaN     18.2   \n",
              "1  Landlocked developing countries (LLDCs)             3.5      8.6   \n",
              "2  Landlocked developing countries (LLDCs)             4.0      9.5   \n",
              "3  Landlocked developing countries (LLDCs)             1.6      5.1   \n",
              "4                                      NaN             1.8      7.7   \n",
              "\n",
              "   Overweight  Stunting  Underweight  \n",
              "0         6.5      53.2         44.9  \n",
              "1         4.6      59.3         32.9  \n",
              "2         5.3      40.4         24.6  \n",
              "3         4.1      38.2         19.1  \n",
              "4         1.7      61.1         36.2  "
            ],
            "text/html": [
              "\n",
              "  <div id=\"df-8792f6b8-d0b5-47c2-a016-19cc539f892a\" class=\"colab-df-container\">\n",
              "    <div>\n",
              "<style scoped>\n",
              "    .dataframe tbody tr th:only-of-type {\n",
              "        vertical-align: middle;\n",
              "    }\n",
              "\n",
              "    .dataframe tbody tr th {\n",
              "        vertical-align: top;\n",
              "    }\n",
              "\n",
              "    .dataframe thead th {\n",
              "        text-align: right;\n",
              "    }\n",
              "</style>\n",
              "<table border=\"1\" class=\"dataframe\">\n",
              "  <thead>\n",
              "    <tr style=\"text-align: right;\">\n",
              "      <th></th>\n",
              "      <th>ISO code</th>\n",
              "      <th>Country and areas</th>\n",
              "      <th>Survey year</th>\n",
              "      <th>Year*</th>\n",
              "      <th>World Bank Income Classification</th>\n",
              "      <th>LDC</th>\n",
              "      <th>LLDC or SIDS</th>\n",
              "      <th>Severe Wasting</th>\n",
              "      <th>Wasting</th>\n",
              "      <th>Overweight</th>\n",
              "      <th>Stunting</th>\n",
              "      <th>Underweight</th>\n",
              "    </tr>\n",
              "  </thead>\n",
              "  <tbody>\n",
              "    <tr>\n",
              "      <th>0</th>\n",
              "      <td>AFG</td>\n",
              "      <td>AFGHANISTAN</td>\n",
              "      <td>1997</td>\n",
              "      <td>1997</td>\n",
              "      <td>Low Income</td>\n",
              "      <td>Least Developed Countries (LDCs)</td>\n",
              "      <td>Landlocked developing countries (LLDCs)</td>\n",
              "      <td>NaN</td>\n",
              "      <td>18.2</td>\n",
              "      <td>6.5</td>\n",
              "      <td>53.2</td>\n",
              "      <td>44.9</td>\n",
              "    </tr>\n",
              "    <tr>\n",
              "      <th>1</th>\n",
              "      <td>AFG</td>\n",
              "      <td>AFGHANISTAN</td>\n",
              "      <td>2004</td>\n",
              "      <td>2004</td>\n",
              "      <td>Low Income</td>\n",
              "      <td>Least Developed Countries (LDCs)</td>\n",
              "      <td>Landlocked developing countries (LLDCs)</td>\n",
              "      <td>3.5</td>\n",
              "      <td>8.6</td>\n",
              "      <td>4.6</td>\n",
              "      <td>59.3</td>\n",
              "      <td>32.9</td>\n",
              "    </tr>\n",
              "    <tr>\n",
              "      <th>2</th>\n",
              "      <td>AFG</td>\n",
              "      <td>AFGHANISTAN</td>\n",
              "      <td>2013</td>\n",
              "      <td>2013</td>\n",
              "      <td>Low Income</td>\n",
              "      <td>Least Developed Countries (LDCs)</td>\n",
              "      <td>Landlocked developing countries (LLDCs)</td>\n",
              "      <td>4.0</td>\n",
              "      <td>9.5</td>\n",
              "      <td>5.3</td>\n",
              "      <td>40.4</td>\n",
              "      <td>24.6</td>\n",
              "    </tr>\n",
              "    <tr>\n",
              "      <th>3</th>\n",
              "      <td>AFG</td>\n",
              "      <td>AFGHANISTAN</td>\n",
              "      <td>2018</td>\n",
              "      <td>2018</td>\n",
              "      <td>Low Income</td>\n",
              "      <td>Least Developed Countries (LDCs)</td>\n",
              "      <td>Landlocked developing countries (LLDCs)</td>\n",
              "      <td>1.6</td>\n",
              "      <td>5.1</td>\n",
              "      <td>4.1</td>\n",
              "      <td>38.2</td>\n",
              "      <td>19.1</td>\n",
              "    </tr>\n",
              "    <tr>\n",
              "      <th>4</th>\n",
              "      <td>AGO</td>\n",
              "      <td>ANGOLA</td>\n",
              "      <td>1996</td>\n",
              "      <td>1996</td>\n",
              "      <td>Lower Middle Income</td>\n",
              "      <td>Least Developed Countries (LDCs)</td>\n",
              "      <td>NaN</td>\n",
              "      <td>1.8</td>\n",
              "      <td>7.7</td>\n",
              "      <td>1.7</td>\n",
              "      <td>61.1</td>\n",
              "      <td>36.2</td>\n",
              "    </tr>\n",
              "  </tbody>\n",
              "</table>\n",
              "</div>\n",
              "    <div class=\"colab-df-buttons\">\n",
              "\n",
              "  <div class=\"colab-df-container\">\n",
              "    <button class=\"colab-df-convert\" onclick=\"convertToInteractive('df-8792f6b8-d0b5-47c2-a016-19cc539f892a')\"\n",
              "            title=\"Convert this dataframe to an interactive table.\"\n",
              "            style=\"display:none;\">\n",
              "\n",
              "  <svg xmlns=\"http://www.w3.org/2000/svg\" height=\"24px\" viewBox=\"0 -960 960 960\">\n",
              "    <path d=\"M120-120v-720h720v720H120Zm60-500h600v-160H180v160Zm220 220h160v-160H400v160Zm0 220h160v-160H400v160ZM180-400h160v-160H180v160Zm440 0h160v-160H620v160ZM180-180h160v-160H180v160Zm440 0h160v-160H620v160Z\"/>\n",
              "  </svg>\n",
              "    </button>\n",
              "\n",
              "  <style>\n",
              "    .colab-df-container {\n",
              "      display:flex;\n",
              "      gap: 12px;\n",
              "    }\n",
              "\n",
              "    .colab-df-convert {\n",
              "      background-color: #E8F0FE;\n",
              "      border: none;\n",
              "      border-radius: 50%;\n",
              "      cursor: pointer;\n",
              "      display: none;\n",
              "      fill: #1967D2;\n",
              "      height: 32px;\n",
              "      padding: 0 0 0 0;\n",
              "      width: 32px;\n",
              "    }\n",
              "\n",
              "    .colab-df-convert:hover {\n",
              "      background-color: #E2EBFA;\n",
              "      box-shadow: 0px 1px 2px rgba(60, 64, 67, 0.3), 0px 1px 3px 1px rgba(60, 64, 67, 0.15);\n",
              "      fill: #174EA6;\n",
              "    }\n",
              "\n",
              "    .colab-df-buttons div {\n",
              "      margin-bottom: 4px;\n",
              "    }\n",
              "\n",
              "    [theme=dark] .colab-df-convert {\n",
              "      background-color: #3B4455;\n",
              "      fill: #D2E3FC;\n",
              "    }\n",
              "\n",
              "    [theme=dark] .colab-df-convert:hover {\n",
              "      background-color: #434B5C;\n",
              "      box-shadow: 0px 1px 3px 1px rgba(0, 0, 0, 0.15);\n",
              "      filter: drop-shadow(0px 1px 2px rgba(0, 0, 0, 0.3));\n",
              "      fill: #FFFFFF;\n",
              "    }\n",
              "  </style>\n",
              "\n",
              "    <script>\n",
              "      const buttonEl =\n",
              "        document.querySelector('#df-8792f6b8-d0b5-47c2-a016-19cc539f892a button.colab-df-convert');\n",
              "      buttonEl.style.display =\n",
              "        google.colab.kernel.accessAllowed ? 'block' : 'none';\n",
              "\n",
              "      async function convertToInteractive(key) {\n",
              "        const element = document.querySelector('#df-8792f6b8-d0b5-47c2-a016-19cc539f892a');\n",
              "        const dataTable =\n",
              "          await google.colab.kernel.invokeFunction('convertToInteractive',\n",
              "                                                    [key], {});\n",
              "        if (!dataTable) return;\n",
              "\n",
              "        const docLinkHtml = 'Like what you see? Visit the ' +\n",
              "          '<a target=\"_blank\" href=https://colab.research.google.com/notebooks/data_table.ipynb>data table notebook</a>'\n",
              "          + ' to learn more about interactive tables.';\n",
              "        element.innerHTML = '';\n",
              "        dataTable['output_type'] = 'display_data';\n",
              "        await google.colab.output.renderOutput(dataTable, element);\n",
              "        const docLink = document.createElement('div');\n",
              "        docLink.innerHTML = docLinkHtml;\n",
              "        element.appendChild(docLink);\n",
              "      }\n",
              "    </script>\n",
              "  </div>\n",
              "\n",
              "\n",
              "<div id=\"df-14a395c0-f86c-49e3-88f4-20cb1bddb27c\">\n",
              "  <button class=\"colab-df-quickchart\" onclick=\"quickchart('df-14a395c0-f86c-49e3-88f4-20cb1bddb27c')\"\n",
              "            title=\"Suggest charts.\"\n",
              "            style=\"display:none;\">\n",
              "\n",
              "<svg xmlns=\"http://www.w3.org/2000/svg\" height=\"24px\"viewBox=\"0 0 24 24\"\n",
              "     width=\"24px\">\n",
              "    <g>\n",
              "        <path d=\"M19 3H5c-1.1 0-2 .9-2 2v14c0 1.1.9 2 2 2h14c1.1 0 2-.9 2-2V5c0-1.1-.9-2-2-2zM9 17H7v-7h2v7zm4 0h-2V7h2v10zm4 0h-2v-4h2v4z\"/>\n",
              "    </g>\n",
              "</svg>\n",
              "  </button>\n",
              "\n",
              "<style>\n",
              "  .colab-df-quickchart {\n",
              "      --bg-color: #E8F0FE;\n",
              "      --fill-color: #1967D2;\n",
              "      --hover-bg-color: #E2EBFA;\n",
              "      --hover-fill-color: #174EA6;\n",
              "      --disabled-fill-color: #AAA;\n",
              "      --disabled-bg-color: #DDD;\n",
              "  }\n",
              "\n",
              "  [theme=dark] .colab-df-quickchart {\n",
              "      --bg-color: #3B4455;\n",
              "      --fill-color: #D2E3FC;\n",
              "      --hover-bg-color: #434B5C;\n",
              "      --hover-fill-color: #FFFFFF;\n",
              "      --disabled-bg-color: #3B4455;\n",
              "      --disabled-fill-color: #666;\n",
              "  }\n",
              "\n",
              "  .colab-df-quickchart {\n",
              "    background-color: var(--bg-color);\n",
              "    border: none;\n",
              "    border-radius: 50%;\n",
              "    cursor: pointer;\n",
              "    display: none;\n",
              "    fill: var(--fill-color);\n",
              "    height: 32px;\n",
              "    padding: 0;\n",
              "    width: 32px;\n",
              "  }\n",
              "\n",
              "  .colab-df-quickchart:hover {\n",
              "    background-color: var(--hover-bg-color);\n",
              "    box-shadow: 0 1px 2px rgba(60, 64, 67, 0.3), 0 1px 3px 1px rgba(60, 64, 67, 0.15);\n",
              "    fill: var(--button-hover-fill-color);\n",
              "  }\n",
              "\n",
              "  .colab-df-quickchart-complete:disabled,\n",
              "  .colab-df-quickchart-complete:disabled:hover {\n",
              "    background-color: var(--disabled-bg-color);\n",
              "    fill: var(--disabled-fill-color);\n",
              "    box-shadow: none;\n",
              "  }\n",
              "\n",
              "  .colab-df-spinner {\n",
              "    border: 2px solid var(--fill-color);\n",
              "    border-color: transparent;\n",
              "    border-bottom-color: var(--fill-color);\n",
              "    animation:\n",
              "      spin 1s steps(1) infinite;\n",
              "  }\n",
              "\n",
              "  @keyframes spin {\n",
              "    0% {\n",
              "      border-color: transparent;\n",
              "      border-bottom-color: var(--fill-color);\n",
              "      border-left-color: var(--fill-color);\n",
              "    }\n",
              "    20% {\n",
              "      border-color: transparent;\n",
              "      border-left-color: var(--fill-color);\n",
              "      border-top-color: var(--fill-color);\n",
              "    }\n",
              "    30% {\n",
              "      border-color: transparent;\n",
              "      border-left-color: var(--fill-color);\n",
              "      border-top-color: var(--fill-color);\n",
              "      border-right-color: var(--fill-color);\n",
              "    }\n",
              "    40% {\n",
              "      border-color: transparent;\n",
              "      border-right-color: var(--fill-color);\n",
              "      border-top-color: var(--fill-color);\n",
              "    }\n",
              "    60% {\n",
              "      border-color: transparent;\n",
              "      border-right-color: var(--fill-color);\n",
              "    }\n",
              "    80% {\n",
              "      border-color: transparent;\n",
              "      border-right-color: var(--fill-color);\n",
              "      border-bottom-color: var(--fill-color);\n",
              "    }\n",
              "    90% {\n",
              "      border-color: transparent;\n",
              "      border-bottom-color: var(--fill-color);\n",
              "    }\n",
              "  }\n",
              "</style>\n",
              "\n",
              "  <script>\n",
              "    async function quickchart(key) {\n",
              "      const quickchartButtonEl =\n",
              "        document.querySelector('#' + key + ' button');\n",
              "      quickchartButtonEl.disabled = true;  // To prevent multiple clicks.\n",
              "      quickchartButtonEl.classList.add('colab-df-spinner');\n",
              "      try {\n",
              "        const charts = await google.colab.kernel.invokeFunction(\n",
              "            'suggestCharts', [key], {});\n",
              "      } catch (error) {\n",
              "        console.error('Error during call to suggestCharts:', error);\n",
              "      }\n",
              "      quickchartButtonEl.classList.remove('colab-df-spinner');\n",
              "      quickchartButtonEl.classList.add('colab-df-quickchart-complete');\n",
              "    }\n",
              "    (() => {\n",
              "      let quickchartButtonEl =\n",
              "        document.querySelector('#df-14a395c0-f86c-49e3-88f4-20cb1bddb27c button');\n",
              "      quickchartButtonEl.style.display =\n",
              "        google.colab.kernel.accessAllowed ? 'block' : 'none';\n",
              "    })();\n",
              "  </script>\n",
              "</div>\n",
              "    </div>\n",
              "  </div>\n"
            ]
          },
          "metadata": {},
          "execution_count": 5
        }
      ]
    },
    {
      "cell_type": "code",
      "source": [
        "df.isnull().sum()"
      ],
      "metadata": {
        "id": "HzBT-deQuO0f",
        "outputId": "8fa37722-76c9-4098-d8ce-a668471e9cbf",
        "colab": {
          "base_uri": "https://localhost:8080/"
        }
      },
      "execution_count": null,
      "outputs": [
        {
          "output_type": "execute_result",
          "data": {
            "text/plain": [
              "ISO code                              0\n",
              "Country and areas                     0\n",
              "Survey year                           0\n",
              "Year*                                 0\n",
              "World Bank Income Classification      0\n",
              "LDC                                 639\n",
              "LLDC or SIDS                        639\n",
              "Severe Wasting                      213\n",
              "Wasting                              45\n",
              "Overweight                          125\n",
              "Stunting                             35\n",
              "Underweight                          22\n",
              "dtype: int64"
            ]
          },
          "metadata": {},
          "execution_count": 6
        }
      ]
    },
    {
      "cell_type": "code",
      "source": [
        "df['LDC'].unique()"
      ],
      "metadata": {
        "id": "YzK0etw6ykzV",
        "outputId": "f780b726-0e84-4777-a517-015b8a757a30",
        "colab": {
          "base_uri": "https://localhost:8080/"
        }
      },
      "execution_count": null,
      "outputs": [
        {
          "output_type": "execute_result",
          "data": {
            "text/plain": [
              "array(['Least Developed Countries (LDCs)', nan], dtype=object)"
            ]
          },
          "metadata": {},
          "execution_count": 7
        }
      ]
    },
    {
      "cell_type": "code",
      "source": [
        "df['World Bank Income Classification'].unique()"
      ],
      "metadata": {
        "id": "rbUKq7ccyytR",
        "outputId": "2afc67c5-4552-464e-893e-362bbc47cbe9",
        "colab": {
          "base_uri": "https://localhost:8080/"
        }
      },
      "execution_count": null,
      "outputs": [
        {
          "output_type": "execute_result",
          "data": {
            "text/plain": [
              "array(['Low Income', 'Lower Middle Income', 'Upper Middle Income',\n",
              "       'High Income'], dtype=object)"
            ]
          },
          "metadata": {},
          "execution_count": 8
        }
      ]
    },
    {
      "cell_type": "code",
      "source": [
        "df['LDC'] = df.apply(lambda row : 'Least Developed Countries (LDCs)' if pd.isnull(row['LDC']) and (row['World Bank Income Classification'] == 'Low Income' or row['World Bank Income Classification'] == 'Lower Middle Income') else 'Non Least Developed Countries (NDCs)', axis = 1)"
      ],
      "metadata": {
        "id": "4S72kPfdh0Vb"
      },
      "execution_count": null,
      "outputs": []
    },
    {
      "cell_type": "code",
      "source": [
        "df.isnull().sum()"
      ],
      "metadata": {
        "id": "Tr9-6mj21Og7",
        "outputId": "11f31499-bad8-4a9c-8bb8-3b0912769276",
        "colab": {
          "base_uri": "https://localhost:8080/"
        }
      },
      "execution_count": null,
      "outputs": [
        {
          "output_type": "execute_result",
          "data": {
            "text/plain": [
              "ISO code                              0\n",
              "Country and areas                     0\n",
              "Survey year                           0\n",
              "Year*                                 0\n",
              "World Bank Income Classification      0\n",
              "LDC                                   0\n",
              "LLDC or SIDS                        639\n",
              "Severe Wasting                      213\n",
              "Wasting                              45\n",
              "Overweight                          125\n",
              "Stunting                             35\n",
              "Underweight                          22\n",
              "dtype: int64"
            ]
          },
          "metadata": {},
          "execution_count": 10
        }
      ]
    },
    {
      "cell_type": "code",
      "source": [
        "df['LDC'].unique()"
      ],
      "metadata": {
        "id": "r0St56Snec-7",
        "outputId": "94559196-fa21-46d1-c90a-71e3ab86f606",
        "colab": {
          "base_uri": "https://localhost:8080/"
        }
      },
      "execution_count": null,
      "outputs": [
        {
          "output_type": "execute_result",
          "data": {
            "text/plain": [
              "array(['Non Least Developed Countries (NDCs)',\n",
              "       'Least Developed Countries (LDCs)'], dtype=object)"
            ]
          },
          "metadata": {},
          "execution_count": 11
        }
      ]
    },
    {
      "cell_type": "code",
      "source": [
        "for x in ['LLDC or SIDS']:\n",
        "  df[x].fillna(df[x].mode()[0], inplace = True)\n"
      ],
      "metadata": {
        "id": "TBts3jQ1jhdP"
      },
      "execution_count": null,
      "outputs": []
    },
    {
      "cell_type": "code",
      "source": [
        "df['LLDC or SIDS'].unique()"
      ],
      "metadata": {
        "id": "KCmY9_54K88b",
        "outputId": "8b8f5d5d-ff7c-41c6-e20d-7930bf3f3979",
        "colab": {
          "base_uri": "https://localhost:8080/"
        }
      },
      "execution_count": null,
      "outputs": [
        {
          "output_type": "execute_result",
          "data": {
            "text/plain": [
              "array(['Landlocked developing countries (LLDCs)',\n",
              "       'Small island developing States (SIDS)'], dtype=object)"
            ]
          },
          "metadata": {},
          "execution_count": 13
        }
      ]
    },
    {
      "cell_type": "code",
      "source": [
        "for x in ['Severe Wasting', 'Wasting', 'Overweight', 'Stunting', 'Underweight']:\n",
        "  df[x].fillna(df[x].mean(), inplace = True)\n"
      ],
      "metadata": {
        "id": "WCM1WClxu7Xw"
      },
      "execution_count": null,
      "outputs": []
    },
    {
      "cell_type": "code",
      "source": [
        "df.isnull().sum()"
      ],
      "metadata": {
        "id": "Dfl9VIXgu7fT",
        "outputId": "91e3b194-2485-48b3-843d-a5dac8d0b354",
        "colab": {
          "base_uri": "https://localhost:8080/"
        }
      },
      "execution_count": null,
      "outputs": [
        {
          "output_type": "execute_result",
          "data": {
            "text/plain": [
              "ISO code                            0\n",
              "Country and areas                   0\n",
              "Survey year                         0\n",
              "Year*                               0\n",
              "World Bank Income Classification    0\n",
              "LDC                                 0\n",
              "LLDC or SIDS                        0\n",
              "Severe Wasting                      0\n",
              "Wasting                             0\n",
              "Overweight                          0\n",
              "Stunting                            0\n",
              "Underweight                         0\n",
              "dtype: int64"
            ]
          },
          "metadata": {},
          "execution_count": 15
        }
      ]
    },
    {
      "cell_type": "code",
      "source": [
        "df.shape"
      ],
      "metadata": {
        "id": "1-kksanLv-Te",
        "outputId": "57435f42-64b0-43b6-e777-607009d1017d",
        "colab": {
          "base_uri": "https://localhost:8080/"
        }
      },
      "execution_count": null,
      "outputs": [
        {
          "output_type": "execute_result",
          "data": {
            "text/plain": [
              "(997, 12)"
            ]
          },
          "metadata": {},
          "execution_count": 16
        }
      ]
    },
    {
      "cell_type": "code",
      "source": [
        "df['isMalnourished'] = df.apply(lambda row : 1 if row['Stunting'] < 10 or row['Wasting'] < 5 or row['Overweight'] > 10 or row['Underweight'] < 5 else 0 , axis = 1)"
      ],
      "metadata": {
        "id": "667ocoRrwBWf"
      },
      "execution_count": null,
      "outputs": []
    },
    {
      "cell_type": "code",
      "source": [
        "df.head()"
      ],
      "metadata": {
        "id": "AGYOVnufMRlc",
        "outputId": "9609b45a-fa06-4538-c8e3-f406c60731c6",
        "colab": {
          "base_uri": "https://localhost:8080/",
          "height": 310
        }
      },
      "execution_count": null,
      "outputs": [
        {
          "output_type": "execute_result",
          "data": {
            "text/plain": [
              "  ISO code Country and areas Survey year  Year*  \\\n",
              "0      AFG       AFGHANISTAN        1997   1997   \n",
              "1      AFG       AFGHANISTAN        2004   2004   \n",
              "2      AFG       AFGHANISTAN        2013   2013   \n",
              "3      AFG       AFGHANISTAN        2018   2018   \n",
              "4      AGO            ANGOLA        1996   1996   \n",
              "\n",
              "  World Bank Income Classification                                   LDC  \\\n",
              "0                       Low Income  Non Least Developed Countries (NDCs)   \n",
              "1                       Low Income  Non Least Developed Countries (NDCs)   \n",
              "2                       Low Income  Non Least Developed Countries (NDCs)   \n",
              "3                       Low Income  Non Least Developed Countries (NDCs)   \n",
              "4              Lower Middle Income  Non Least Developed Countries (NDCs)   \n",
              "\n",
              "                              LLDC or SIDS  Severe Wasting  Wasting  \\\n",
              "0  Landlocked developing countries (LLDCs)        2.003316     18.2   \n",
              "1  Landlocked developing countries (LLDCs)        3.500000      8.6   \n",
              "2  Landlocked developing countries (LLDCs)        4.000000      9.5   \n",
              "3  Landlocked developing countries (LLDCs)        1.600000      5.1   \n",
              "4  Landlocked developing countries (LLDCs)        1.800000      7.7   \n",
              "\n",
              "   Overweight  Stunting  Underweight  isMalnourished  \n",
              "0         6.5      53.2         44.9               0  \n",
              "1         4.6      59.3         32.9               0  \n",
              "2         5.3      40.4         24.6               0  \n",
              "3         4.1      38.2         19.1               0  \n",
              "4         1.7      61.1         36.2               0  "
            ],
            "text/html": [
              "\n",
              "  <div id=\"df-07dee651-191c-49ff-a415-97a5c5eb5af3\" class=\"colab-df-container\">\n",
              "    <div>\n",
              "<style scoped>\n",
              "    .dataframe tbody tr th:only-of-type {\n",
              "        vertical-align: middle;\n",
              "    }\n",
              "\n",
              "    .dataframe tbody tr th {\n",
              "        vertical-align: top;\n",
              "    }\n",
              "\n",
              "    .dataframe thead th {\n",
              "        text-align: right;\n",
              "    }\n",
              "</style>\n",
              "<table border=\"1\" class=\"dataframe\">\n",
              "  <thead>\n",
              "    <tr style=\"text-align: right;\">\n",
              "      <th></th>\n",
              "      <th>ISO code</th>\n",
              "      <th>Country and areas</th>\n",
              "      <th>Survey year</th>\n",
              "      <th>Year*</th>\n",
              "      <th>World Bank Income Classification</th>\n",
              "      <th>LDC</th>\n",
              "      <th>LLDC or SIDS</th>\n",
              "      <th>Severe Wasting</th>\n",
              "      <th>Wasting</th>\n",
              "      <th>Overweight</th>\n",
              "      <th>Stunting</th>\n",
              "      <th>Underweight</th>\n",
              "      <th>isMalnourished</th>\n",
              "    </tr>\n",
              "  </thead>\n",
              "  <tbody>\n",
              "    <tr>\n",
              "      <th>0</th>\n",
              "      <td>AFG</td>\n",
              "      <td>AFGHANISTAN</td>\n",
              "      <td>1997</td>\n",
              "      <td>1997</td>\n",
              "      <td>Low Income</td>\n",
              "      <td>Non Least Developed Countries (NDCs)</td>\n",
              "      <td>Landlocked developing countries (LLDCs)</td>\n",
              "      <td>2.003316</td>\n",
              "      <td>18.2</td>\n",
              "      <td>6.5</td>\n",
              "      <td>53.2</td>\n",
              "      <td>44.9</td>\n",
              "      <td>0</td>\n",
              "    </tr>\n",
              "    <tr>\n",
              "      <th>1</th>\n",
              "      <td>AFG</td>\n",
              "      <td>AFGHANISTAN</td>\n",
              "      <td>2004</td>\n",
              "      <td>2004</td>\n",
              "      <td>Low Income</td>\n",
              "      <td>Non Least Developed Countries (NDCs)</td>\n",
              "      <td>Landlocked developing countries (LLDCs)</td>\n",
              "      <td>3.500000</td>\n",
              "      <td>8.6</td>\n",
              "      <td>4.6</td>\n",
              "      <td>59.3</td>\n",
              "      <td>32.9</td>\n",
              "      <td>0</td>\n",
              "    </tr>\n",
              "    <tr>\n",
              "      <th>2</th>\n",
              "      <td>AFG</td>\n",
              "      <td>AFGHANISTAN</td>\n",
              "      <td>2013</td>\n",
              "      <td>2013</td>\n",
              "      <td>Low Income</td>\n",
              "      <td>Non Least Developed Countries (NDCs)</td>\n",
              "      <td>Landlocked developing countries (LLDCs)</td>\n",
              "      <td>4.000000</td>\n",
              "      <td>9.5</td>\n",
              "      <td>5.3</td>\n",
              "      <td>40.4</td>\n",
              "      <td>24.6</td>\n",
              "      <td>0</td>\n",
              "    </tr>\n",
              "    <tr>\n",
              "      <th>3</th>\n",
              "      <td>AFG</td>\n",
              "      <td>AFGHANISTAN</td>\n",
              "      <td>2018</td>\n",
              "      <td>2018</td>\n",
              "      <td>Low Income</td>\n",
              "      <td>Non Least Developed Countries (NDCs)</td>\n",
              "      <td>Landlocked developing countries (LLDCs)</td>\n",
              "      <td>1.600000</td>\n",
              "      <td>5.1</td>\n",
              "      <td>4.1</td>\n",
              "      <td>38.2</td>\n",
              "      <td>19.1</td>\n",
              "      <td>0</td>\n",
              "    </tr>\n",
              "    <tr>\n",
              "      <th>4</th>\n",
              "      <td>AGO</td>\n",
              "      <td>ANGOLA</td>\n",
              "      <td>1996</td>\n",
              "      <td>1996</td>\n",
              "      <td>Lower Middle Income</td>\n",
              "      <td>Non Least Developed Countries (NDCs)</td>\n",
              "      <td>Landlocked developing countries (LLDCs)</td>\n",
              "      <td>1.800000</td>\n",
              "      <td>7.7</td>\n",
              "      <td>1.7</td>\n",
              "      <td>61.1</td>\n",
              "      <td>36.2</td>\n",
              "      <td>0</td>\n",
              "    </tr>\n",
              "  </tbody>\n",
              "</table>\n",
              "</div>\n",
              "    <div class=\"colab-df-buttons\">\n",
              "\n",
              "  <div class=\"colab-df-container\">\n",
              "    <button class=\"colab-df-convert\" onclick=\"convertToInteractive('df-07dee651-191c-49ff-a415-97a5c5eb5af3')\"\n",
              "            title=\"Convert this dataframe to an interactive table.\"\n",
              "            style=\"display:none;\">\n",
              "\n",
              "  <svg xmlns=\"http://www.w3.org/2000/svg\" height=\"24px\" viewBox=\"0 -960 960 960\">\n",
              "    <path d=\"M120-120v-720h720v720H120Zm60-500h600v-160H180v160Zm220 220h160v-160H400v160Zm0 220h160v-160H400v160ZM180-400h160v-160H180v160Zm440 0h160v-160H620v160ZM180-180h160v-160H180v160Zm440 0h160v-160H620v160Z\"/>\n",
              "  </svg>\n",
              "    </button>\n",
              "\n",
              "  <style>\n",
              "    .colab-df-container {\n",
              "      display:flex;\n",
              "      gap: 12px;\n",
              "    }\n",
              "\n",
              "    .colab-df-convert {\n",
              "      background-color: #E8F0FE;\n",
              "      border: none;\n",
              "      border-radius: 50%;\n",
              "      cursor: pointer;\n",
              "      display: none;\n",
              "      fill: #1967D2;\n",
              "      height: 32px;\n",
              "      padding: 0 0 0 0;\n",
              "      width: 32px;\n",
              "    }\n",
              "\n",
              "    .colab-df-convert:hover {\n",
              "      background-color: #E2EBFA;\n",
              "      box-shadow: 0px 1px 2px rgba(60, 64, 67, 0.3), 0px 1px 3px 1px rgba(60, 64, 67, 0.15);\n",
              "      fill: #174EA6;\n",
              "    }\n",
              "\n",
              "    .colab-df-buttons div {\n",
              "      margin-bottom: 4px;\n",
              "    }\n",
              "\n",
              "    [theme=dark] .colab-df-convert {\n",
              "      background-color: #3B4455;\n",
              "      fill: #D2E3FC;\n",
              "    }\n",
              "\n",
              "    [theme=dark] .colab-df-convert:hover {\n",
              "      background-color: #434B5C;\n",
              "      box-shadow: 0px 1px 3px 1px rgba(0, 0, 0, 0.15);\n",
              "      filter: drop-shadow(0px 1px 2px rgba(0, 0, 0, 0.3));\n",
              "      fill: #FFFFFF;\n",
              "    }\n",
              "  </style>\n",
              "\n",
              "    <script>\n",
              "      const buttonEl =\n",
              "        document.querySelector('#df-07dee651-191c-49ff-a415-97a5c5eb5af3 button.colab-df-convert');\n",
              "      buttonEl.style.display =\n",
              "        google.colab.kernel.accessAllowed ? 'block' : 'none';\n",
              "\n",
              "      async function convertToInteractive(key) {\n",
              "        const element = document.querySelector('#df-07dee651-191c-49ff-a415-97a5c5eb5af3');\n",
              "        const dataTable =\n",
              "          await google.colab.kernel.invokeFunction('convertToInteractive',\n",
              "                                                    [key], {});\n",
              "        if (!dataTable) return;\n",
              "\n",
              "        const docLinkHtml = 'Like what you see? Visit the ' +\n",
              "          '<a target=\"_blank\" href=https://colab.research.google.com/notebooks/data_table.ipynb>data table notebook</a>'\n",
              "          + ' to learn more about interactive tables.';\n",
              "        element.innerHTML = '';\n",
              "        dataTable['output_type'] = 'display_data';\n",
              "        await google.colab.output.renderOutput(dataTable, element);\n",
              "        const docLink = document.createElement('div');\n",
              "        docLink.innerHTML = docLinkHtml;\n",
              "        element.appendChild(docLink);\n",
              "      }\n",
              "    </script>\n",
              "  </div>\n",
              "\n",
              "\n",
              "<div id=\"df-73927720-3ec3-4dd3-8378-6f475cbd2d19\">\n",
              "  <button class=\"colab-df-quickchart\" onclick=\"quickchart('df-73927720-3ec3-4dd3-8378-6f475cbd2d19')\"\n",
              "            title=\"Suggest charts.\"\n",
              "            style=\"display:none;\">\n",
              "\n",
              "<svg xmlns=\"http://www.w3.org/2000/svg\" height=\"24px\"viewBox=\"0 0 24 24\"\n",
              "     width=\"24px\">\n",
              "    <g>\n",
              "        <path d=\"M19 3H5c-1.1 0-2 .9-2 2v14c0 1.1.9 2 2 2h14c1.1 0 2-.9 2-2V5c0-1.1-.9-2-2-2zM9 17H7v-7h2v7zm4 0h-2V7h2v10zm4 0h-2v-4h2v4z\"/>\n",
              "    </g>\n",
              "</svg>\n",
              "  </button>\n",
              "\n",
              "<style>\n",
              "  .colab-df-quickchart {\n",
              "      --bg-color: #E8F0FE;\n",
              "      --fill-color: #1967D2;\n",
              "      --hover-bg-color: #E2EBFA;\n",
              "      --hover-fill-color: #174EA6;\n",
              "      --disabled-fill-color: #AAA;\n",
              "      --disabled-bg-color: #DDD;\n",
              "  }\n",
              "\n",
              "  [theme=dark] .colab-df-quickchart {\n",
              "      --bg-color: #3B4455;\n",
              "      --fill-color: #D2E3FC;\n",
              "      --hover-bg-color: #434B5C;\n",
              "      --hover-fill-color: #FFFFFF;\n",
              "      --disabled-bg-color: #3B4455;\n",
              "      --disabled-fill-color: #666;\n",
              "  }\n",
              "\n",
              "  .colab-df-quickchart {\n",
              "    background-color: var(--bg-color);\n",
              "    border: none;\n",
              "    border-radius: 50%;\n",
              "    cursor: pointer;\n",
              "    display: none;\n",
              "    fill: var(--fill-color);\n",
              "    height: 32px;\n",
              "    padding: 0;\n",
              "    width: 32px;\n",
              "  }\n",
              "\n",
              "  .colab-df-quickchart:hover {\n",
              "    background-color: var(--hover-bg-color);\n",
              "    box-shadow: 0 1px 2px rgba(60, 64, 67, 0.3), 0 1px 3px 1px rgba(60, 64, 67, 0.15);\n",
              "    fill: var(--button-hover-fill-color);\n",
              "  }\n",
              "\n",
              "  .colab-df-quickchart-complete:disabled,\n",
              "  .colab-df-quickchart-complete:disabled:hover {\n",
              "    background-color: var(--disabled-bg-color);\n",
              "    fill: var(--disabled-fill-color);\n",
              "    box-shadow: none;\n",
              "  }\n",
              "\n",
              "  .colab-df-spinner {\n",
              "    border: 2px solid var(--fill-color);\n",
              "    border-color: transparent;\n",
              "    border-bottom-color: var(--fill-color);\n",
              "    animation:\n",
              "      spin 1s steps(1) infinite;\n",
              "  }\n",
              "\n",
              "  @keyframes spin {\n",
              "    0% {\n",
              "      border-color: transparent;\n",
              "      border-bottom-color: var(--fill-color);\n",
              "      border-left-color: var(--fill-color);\n",
              "    }\n",
              "    20% {\n",
              "      border-color: transparent;\n",
              "      border-left-color: var(--fill-color);\n",
              "      border-top-color: var(--fill-color);\n",
              "    }\n",
              "    30% {\n",
              "      border-color: transparent;\n",
              "      border-left-color: var(--fill-color);\n",
              "      border-top-color: var(--fill-color);\n",
              "      border-right-color: var(--fill-color);\n",
              "    }\n",
              "    40% {\n",
              "      border-color: transparent;\n",
              "      border-right-color: var(--fill-color);\n",
              "      border-top-color: var(--fill-color);\n",
              "    }\n",
              "    60% {\n",
              "      border-color: transparent;\n",
              "      border-right-color: var(--fill-color);\n",
              "    }\n",
              "    80% {\n",
              "      border-color: transparent;\n",
              "      border-right-color: var(--fill-color);\n",
              "      border-bottom-color: var(--fill-color);\n",
              "    }\n",
              "    90% {\n",
              "      border-color: transparent;\n",
              "      border-bottom-color: var(--fill-color);\n",
              "    }\n",
              "  }\n",
              "</style>\n",
              "\n",
              "  <script>\n",
              "    async function quickchart(key) {\n",
              "      const quickchartButtonEl =\n",
              "        document.querySelector('#' + key + ' button');\n",
              "      quickchartButtonEl.disabled = true;  // To prevent multiple clicks.\n",
              "      quickchartButtonEl.classList.add('colab-df-spinner');\n",
              "      try {\n",
              "        const charts = await google.colab.kernel.invokeFunction(\n",
              "            'suggestCharts', [key], {});\n",
              "      } catch (error) {\n",
              "        console.error('Error during call to suggestCharts:', error);\n",
              "      }\n",
              "      quickchartButtonEl.classList.remove('colab-df-spinner');\n",
              "      quickchartButtonEl.classList.add('colab-df-quickchart-complete');\n",
              "    }\n",
              "    (() => {\n",
              "      let quickchartButtonEl =\n",
              "        document.querySelector('#df-73927720-3ec3-4dd3-8378-6f475cbd2d19 button');\n",
              "      quickchartButtonEl.style.display =\n",
              "        google.colab.kernel.accessAllowed ? 'block' : 'none';\n",
              "    })();\n",
              "  </script>\n",
              "</div>\n",
              "    </div>\n",
              "  </div>\n"
            ]
          },
          "metadata": {},
          "execution_count": 18
        }
      ]
    },
    {
      "cell_type": "code",
      "source": [
        "df['isMalnourished'].unique()"
      ],
      "metadata": {
        "id": "OQjEt_QmMbZI",
        "outputId": "9160093b-32ba-469f-b394-8010d52f68f2",
        "colab": {
          "base_uri": "https://localhost:8080/"
        }
      },
      "execution_count": null,
      "outputs": [
        {
          "output_type": "execute_result",
          "data": {
            "text/plain": [
              "array([0, 1])"
            ]
          },
          "metadata": {},
          "execution_count": 19
        }
      ]
    },
    {
      "cell_type": "code",
      "source": [
        "df.isMalnourished.value_counts()"
      ],
      "metadata": {
        "id": "MoSwMLVeM3E6",
        "outputId": "d54b398b-f2dd-427f-a94e-916dd80db217",
        "colab": {
          "base_uri": "https://localhost:8080/"
        }
      },
      "execution_count": null,
      "outputs": [
        {
          "output_type": "execute_result",
          "data": {
            "text/plain": [
              "1    501\n",
              "0    496\n",
              "Name: isMalnourished, dtype: int64"
            ]
          },
          "metadata": {},
          "execution_count": 20
        }
      ]
    },
    {
      "cell_type": "code",
      "source": [
        "le_LDC = LabelEncoder()\n",
        "le_LLDCorSIDS = LabelEncoder()\n",
        "le_WorldBankIncomeClassification = LabelEncoder()\n",
        "le_CountyAndAreas = LabelEncoder()"
      ],
      "metadata": {
        "id": "-8wE51GczkMu"
      },
      "execution_count": null,
      "outputs": []
    },
    {
      "cell_type": "code",
      "source": [
        "df['LDC'] = le_LDC.fit_transform(df['LDC'])"
      ],
      "metadata": {
        "id": "IR4n21XQUM-O"
      },
      "execution_count": null,
      "outputs": []
    },
    {
      "cell_type": "code",
      "source": [
        "df['LLDC or SIDS'] = le_LLDCorSIDS.fit_transform(df['LLDC or SIDS'])"
      ],
      "metadata": {
        "id": "MrXTYdtVUO4i"
      },
      "execution_count": null,
      "outputs": []
    },
    {
      "cell_type": "code",
      "source": [
        "df['World Bank Income Classification'] = le_WorldBankIncomeClassification.fit_transform(df['World Bank Income Classification'])"
      ],
      "metadata": {
        "id": "Mr9teo_KUQuP"
      },
      "execution_count": null,
      "outputs": []
    },
    {
      "cell_type": "code",
      "source": [
        "df['Country and areas'] = le_CountyAndAreas.fit_transform(df['Country and areas'])"
      ],
      "metadata": {
        "id": "1T-RJplyUm5S"
      },
      "execution_count": null,
      "outputs": []
    },
    {
      "cell_type": "code",
      "source": [
        "print(df['LDC'].unique())\n",
        "print(df['LLDC or SIDS'].unique())\n",
        "df['World Bank Income Classification'].unique()\n",
        "df['Country and areas'].unique()"
      ],
      "metadata": {
        "id": "KAnPYa5HUTD1",
        "outputId": "0297f1ee-2ff0-4af9-84bc-ba5e84e376e0",
        "colab": {
          "base_uri": "https://localhost:8080/"
        }
      },
      "execution_count": null,
      "outputs": [
        {
          "output_type": "stream",
          "name": "stdout",
          "text": [
            "[1 0]\n",
            "[0 1]\n"
          ]
        },
        {
          "output_type": "execute_result",
          "data": {
            "text/plain": [
              "array([  0,   3,   1,   4,   5,   6,   7,  23,  12,  14,  22,   9,  21,\n",
              "         8,  17,  11,  13,  16,  19,  10,  20,  15,  18,  28,  27,  30,\n",
              "        31,  38,  26,  40,  34,  32,  33,  24,  35,  36,  37,  55,  41,\n",
              "        42,   2,  43,  44,  47,  48,  50,  51,  52,  54,  56,  59,  53,\n",
              "        60,  46,  57,  58,  61,  63,  62,  65,  64,  66,  67,  68,  70,\n",
              "        69,  71,  72,  75,  25,  73, 113,  74,  76,  77,  79,  80, 117,\n",
              "       130,  78,  92, 114,  81,  84,  89,  86, 102,  85,  94,  91,  90,\n",
              "        93,  87,  88,  82,  83,  95, 100, 101,  99,  98,  97,  96, 103,\n",
              "       104, 105, 108, 109, 106, 110,  39, 111, 107, 131, 112, 115, 116,\n",
              "       120, 132, 121, 125, 126, 124,  45, 127, 122, 129, 119, 133,  49,\n",
              "       123, 134,  29, 138, 136, 135, 143, 137, 139, 140, 141, 142, 144,\n",
              "       147, 145, 146, 149, 148, 150, 152, 153, 151, 118, 154, 128, 155,\n",
              "       156])"
            ]
          },
          "metadata": {},
          "execution_count": 26
        }
      ]
    },
    {
      "cell_type": "code",
      "source": [
        "plt.figure(figsize = (12, 10))\n",
        "sns.heatmap(df.corr(), annot = True, linewidths = .5, cmap = plt.cm.cool)"
      ],
      "metadata": {
        "id": "tWZEDvb5z8DL",
        "outputId": "da53630c-8527-4fda-c6f7-a73c50704de9",
        "colab": {
          "base_uri": "https://localhost:8080/",
          "height": 1000
        }
      },
      "execution_count": null,
      "outputs": [
        {
          "output_type": "stream",
          "name": "stderr",
          "text": [
            "<ipython-input-27-bfa5f0038aa7>:2: FutureWarning: The default value of numeric_only in DataFrame.corr is deprecated. In a future version, it will default to False. Select only valid columns or specify the value of numeric_only to silence this warning.\n",
            "  sns.heatmap(df.corr(), annot = True, linewidths = .5, cmap = plt.cm.cool)\n"
          ]
        },
        {
          "output_type": "execute_result",
          "data": {
            "text/plain": [
              "<Axes: >"
            ]
          },
          "metadata": {},
          "execution_count": 27
        },
        {
          "output_type": "display_data",
          "data": {
            "text/plain": [
              "<Figure size 1200x1000 with 2 Axes>"
            ],
            "image/png": "[encoded data removed]"
          },
          "metadata": {}
        }
      ]
    },
    {
      "cell_type": "code",
      "source": [
        "df.drop(['ISO code', 'Survey year' ,'Year*'], axis = 1, inplace = True)\n"
      ],
      "metadata": {
        "id": "FajIb7c842Wa"
      },
      "execution_count": null,
      "outputs": []
    },
    {
      "cell_type": "code",
      "source": [
        "df.drop([ 'Country and areas', 'LDC', 'Underweight' ], axis = 1, inplace = True)"
      ],
      "metadata": {
        "id": "DCinU45JXfFJ"
      },
      "execution_count": null,
      "outputs": []
    },
    {
      "cell_type": "code",
      "source": [
        "df_uniques = df.nunique()\n",
        "df_uniques"
      ],
      "metadata": {
        "id": "-SRrSebW4Bb4",
        "outputId": "96f001fd-7e40-4a19-f3fa-acf199b95d33",
        "colab": {
          "base_uri": "https://localhost:8080/"
        }
      },
      "execution_count": null,
      "outputs": [
        {
          "output_type": "execute_result",
          "data": {
            "text/plain": [
              "World Bank Income Classification      4\n",
              "LLDC or SIDS                          2\n",
              "Severe Wasting                       77\n",
              "Wasting                             191\n",
              "Overweight                          175\n",
              "Stunting                            475\n",
              "isMalnourished                        2\n",
              "dtype: int64"
            ]
          },
          "metadata": {},
          "execution_count": 30
        }
      ]
    },
    {
      "cell_type": "code",
      "source": [
        "df.head()"
      ],
      "metadata": {
        "id": "QlxQpnJTGJGc",
        "outputId": "de8f2533-ec4c-4364-c7bd-0c5779bc13f4",
        "colab": {
          "base_uri": "https://localhost:8080/",
          "height": 206
        }
      },
      "execution_count": null,
      "outputs": [
        {
          "output_type": "execute_result",
          "data": {
            "text/plain": [
              "   World Bank Income Classification  LLDC or SIDS  Severe Wasting  Wasting  \\\n",
              "0                                 1             0        2.003316     18.2   \n",
              "1                                 1             0        3.500000      8.6   \n",
              "2                                 1             0        4.000000      9.5   \n",
              "3                                 1             0        1.600000      5.1   \n",
              "4                                 2             0        1.800000      7.7   \n",
              "\n",
              "   Overweight  Stunting  isMalnourished  \n",
              "0         6.5      53.2               0  \n",
              "1         4.6      59.3               0  \n",
              "2         5.3      40.4               0  \n",
              "3         4.1      38.2               0  \n",
              "4         1.7      61.1               0  "
            ],
            "text/html": [
              "\n",
              "  <div id=\"df-d7904a0d-4f17-4728-a30e-1b2e2e577072\" class=\"colab-df-container\">\n",
              "    <div>\n",
              "<style scoped>\n",
              "    .dataframe tbody tr th:only-of-type {\n",
              "        vertical-align: middle;\n",
              "    }\n",
              "\n",
              "    .dataframe tbody tr th {\n",
              "        vertical-align: top;\n",
              "    }\n",
              "\n",
              "    .dataframe thead th {\n",
              "        text-align: right;\n",
              "    }\n",
              "</style>\n",
              "<table border=\"1\" class=\"dataframe\">\n",
              "  <thead>\n",
              "    <tr style=\"text-align: right;\">\n",
              "      <th></th>\n",
              "      <th>World Bank Income Classification</th>\n",
              "      <th>LLDC or SIDS</th>\n",
              "      <th>Severe Wasting</th>\n",
              "      <th>Wasting</th>\n",
              "      <th>Overweight</th>\n",
              "      <th>Stunting</th>\n",
              "      <th>isMalnourished</th>\n",
              "    </tr>\n",
              "  </thead>\n",
              "  <tbody>\n",
              "    <tr>\n",
              "      <th>0</th>\n",
              "      <td>1</td>\n",
              "      <td>0</td>\n",
              "      <td>2.003316</td>\n",
              "      <td>18.2</td>\n",
              "      <td>6.5</td>\n",
              "      <td>53.2</td>\n",
              "      <td>0</td>\n",
              "    </tr>\n",
              "    <tr>\n",
              "      <th>1</th>\n",
              "      <td>1</td>\n",
              "      <td>0</td>\n",
              "      <td>3.500000</td>\n",
              "      <td>8.6</td>\n",
              "      <td>4.6</td>\n",
              "      <td>59.3</td>\n",
              "      <td>0</td>\n",
              "    </tr>\n",
              "    <tr>\n",
              "      <th>2</th>\n",
              "      <td>1</td>\n",
              "      <td>0</td>\n",
              "      <td>4.000000</td>\n",
              "      <td>9.5</td>\n",
              "      <td>5.3</td>\n",
              "      <td>40.4</td>\n",
              "      <td>0</td>\n",
              "    </tr>\n",
              "    <tr>\n",
              "      <th>3</th>\n",
              "      <td>1</td>\n",
              "      <td>0</td>\n",
              "      <td>1.600000</td>\n",
              "      <td>5.1</td>\n",
              "      <td>4.1</td>\n",
              "      <td>38.2</td>\n",
              "      <td>0</td>\n",
              "    </tr>\n",
              "    <tr>\n",
              "      <th>4</th>\n",
              "      <td>2</td>\n",
              "      <td>0</td>\n",
              "      <td>1.800000</td>\n",
              "      <td>7.7</td>\n",
              "      <td>1.7</td>\n",
              "      <td>61.1</td>\n",
              "      <td>0</td>\n",
              "    </tr>\n",
              "  </tbody>\n",
              "</table>\n",
              "</div>\n",
              "    <div class=\"colab-df-buttons\">\n",
              "\n",
              "  <div class=\"colab-df-container\">\n",
              "    <button class=\"colab-df-convert\" onclick=\"convertToInteractive('df-d7904a0d-4f17-4728-a30e-1b2e2e577072')\"\n",
              "            title=\"Convert this dataframe to an interactive table.\"\n",
              "            style=\"display:none;\">\n",
              "\n",
              "  <svg xmlns=\"http://www.w3.org/2000/svg\" height=\"24px\" viewBox=\"0 -960 960 960\">\n",
              "    <path d=\"M120-120v-720h720v720H120Zm60-500h600v-160H180v160Zm220 220h160v-160H400v160Zm0 220h160v-160H400v160ZM180-400h160v-160H180v160Zm440 0h160v-160H620v160ZM180-180h160v-160H180v160Zm440 0h160v-160H620v160Z\"/>\n",
              "  </svg>\n",
              "    </button>\n",
              "\n",
              "  <style>\n",
              "    .colab-df-container {\n",
              "      display:flex;\n",
              "      gap: 12px;\n",
              "    }\n",
              "\n",
              "    .colab-df-convert {\n",
              "      background-color: #E8F0FE;\n",
              "      border: none;\n",
              "      border-radius: 50%;\n",
              "      cursor: pointer;\n",
              "      display: none;\n",
              "      fill: #1967D2;\n",
              "      height: 32px;\n",
              "      padding: 0 0 0 0;\n",
              "      width: 32px;\n",
              "    }\n",
              "\n",
              "    .colab-df-convert:hover {\n",
              "      background-color: #E2EBFA;\n",
              "      box-shadow: 0px 1px 2px rgba(60, 64, 67, 0.3), 0px 1px 3px 1px rgba(60, 64, 67, 0.15);\n",
              "      fill: #174EA6;\n",
              "    }\n",
              "\n",
              "    .colab-df-buttons div {\n",
              "      margin-bottom: 4px;\n",
              "    }\n",
              "\n",
              "    [theme=dark] .colab-df-convert {\n",
              "      background-color: #3B4455;\n",
              "      fill: #D2E3FC;\n",
              "    }\n",
              "\n",
              "    [theme=dark] .colab-df-convert:hover {\n",
              "      background-color: #434B5C;\n",
              "      box-shadow: 0px 1px 3px 1px rgba(0, 0, 0, 0.15);\n",
              "      filter: drop-shadow(0px 1px 2px rgba(0, 0, 0, 0.3));\n",
              "      fill: #FFFFFF;\n",
              "    }\n",
              "  </style>\n",
              "\n",
              "    <script>\n",
              "      const buttonEl =\n",
              "        document.querySelector('#df-d7904a0d-4f17-4728-a30e-1b2e2e577072 button.colab-df-convert');\n",
              "      buttonEl.style.display =\n",
              "        google.colab.kernel.accessAllowed ? 'block' : 'none';\n",
              "\n",
              "      async function convertToInteractive(key) {\n",
              "        const element = document.querySelector('#df-d7904a0d-4f17-4728-a30e-1b2e2e577072');\n",
              "        const dataTable =\n",
              "          await google.colab.kernel.invokeFunction('convertToInteractive',\n",
              "                                                    [key], {});\n",
              "        if (!dataTable) return;\n",
              "\n",
              "        const docLinkHtml = 'Like what you see? Visit the ' +\n",
              "          '<a target=\"_blank\" href=https://colab.research.google.com/notebooks/data_table.ipynb>data table notebook</a>'\n",
              "          + ' to learn more about interactive tables.';\n",
              "        element.innerHTML = '';\n",
              "        dataTable['output_type'] = 'display_data';\n",
              "        await google.colab.output.renderOutput(dataTable, element);\n",
              "        const docLink = document.createElement('div');\n",
              "        docLink.innerHTML = docLinkHtml;\n",
              "        element.appendChild(docLink);\n",
              "      }\n",
              "    </script>\n",
              "  </div>\n",
              "\n",
              "\n",
              "<div id=\"df-43015a40-3d51-48f7-b17f-a4105cabd99d\">\n",
              "  <button class=\"colab-df-quickchart\" onclick=\"quickchart('df-43015a40-3d51-48f7-b17f-a4105cabd99d')\"\n",
              "            title=\"Suggest charts.\"\n",
              "            style=\"display:none;\">\n",
              "\n",
              "<svg xmlns=\"http://www.w3.org/2000/svg\" height=\"24px\"viewBox=\"0 0 24 24\"\n",
              "     width=\"24px\">\n",
              "    <g>\n",
              "        <path d=\"M19 3H5c-1.1 0-2 .9-2 2v14c0 1.1.9 2 2 2h14c1.1 0 2-.9 2-2V5c0-1.1-.9-2-2-2zM9 17H7v-7h2v7zm4 0h-2V7h2v10zm4 0h-2v-4h2v4z\"/>\n",
              "    </g>\n",
              "</svg>\n",
              "  </button>\n",
              "\n",
              "<style>\n",
              "  .colab-df-quickchart {\n",
              "      --bg-color: #E8F0FE;\n",
              "      --fill-color: #1967D2;\n",
              "      --hover-bg-color: #E2EBFA;\n",
              "      --hover-fill-color: #174EA6;\n",
              "      --disabled-fill-color: #AAA;\n",
              "      --disabled-bg-color: #DDD;\n",
              "  }\n",
              "\n",
              "  [theme=dark] .colab-df-quickchart {\n",
              "      --bg-color: #3B4455;\n",
              "      --fill-color: #D2E3FC;\n",
              "      --hover-bg-color: #434B5C;\n",
              "      --hover-fill-color: #FFFFFF;\n",
              "      --disabled-bg-color: #3B4455;\n",
              "      --disabled-fill-color: #666;\n",
              "  }\n",
              "\n",
              "  .colab-df-quickchart {\n",
              "    background-color: var(--bg-color);\n",
              "    border: none;\n",
              "    border-radius: 50%;\n",
              "    cursor: pointer;\n",
              "    display: none;\n",
              "    fill: var(--fill-color);\n",
              "    height: 32px;\n",
              "    padding: 0;\n",
              "    width: 32px;\n",
              "  }\n",
              "\n",
              "  .colab-df-quickchart:hover {\n",
              "    background-color: var(--hover-bg-color);\n",
              "    box-shadow: 0 1px 2px rgba(60, 64, 67, 0.3), 0 1px 3px 1px rgba(60, 64, 67, 0.15);\n",
              "    fill: var(--button-hover-fill-color);\n",
              "  }\n",
              "\n",
              "  .colab-df-quickchart-complete:disabled,\n",
              "  .colab-df-quickchart-complete:disabled:hover {\n",
              "    background-color: var(--disabled-bg-color);\n",
              "    fill: var(--disabled-fill-color);\n",
              "    box-shadow: none;\n",
              "  }\n",
              "\n",
              "  .colab-df-spinner {\n",
              "    border: 2px solid var(--fill-color);\n",
              "    border-color: transparent;\n",
              "    border-bottom-color: var(--fill-color);\n",
              "    animation:\n",
              "      spin 1s steps(1) infinite;\n",
              "  }\n",
              "\n",
              "  @keyframes spin {\n",
              "    0% {\n",
              "      border-color: transparent;\n",
              "      border-bottom-color: var(--fill-color);\n",
              "      border-left-color: var(--fill-color);\n",
              "    }\n",
              "    20% {\n",
              "      border-color: transparent;\n",
              "      border-left-color: var(--fill-color);\n",
              "      border-top-color: var(--fill-color);\n",
              "    }\n",
              "    30% {\n",
              "      border-color: transparent;\n",
              "      border-left-color: var(--fill-color);\n",
              "      border-top-color: var(--fill-color);\n",
              "      border-right-color: var(--fill-color);\n",
              "    }\n",
              "    40% {\n",
              "      border-color: transparent;\n",
              "      border-right-color: var(--fill-color);\n",
              "      border-top-color: var(--fill-color);\n",
              "    }\n",
              "    60% {\n",
              "      border-color: transparent;\n",
              "      border-right-color: var(--fill-color);\n",
              "    }\n",
              "    80% {\n",
              "      border-color: transparent;\n",
              "      border-right-color: var(--fill-color);\n",
              "      border-bottom-color: var(--fill-color);\n",
              "    }\n",
              "    90% {\n",
              "      border-color: transparent;\n",
              "      border-bottom-color: var(--fill-color);\n",
              "    }\n",
              "  }\n",
              "</style>\n",
              "\n",
              "  <script>\n",
              "    async function quickchart(key) {\n",
              "      const quickchartButtonEl =\n",
              "        document.querySelector('#' + key + ' button');\n",
              "      quickchartButtonEl.disabled = true;  // To prevent multiple clicks.\n",
              "      quickchartButtonEl.classList.add('colab-df-spinner');\n",
              "      try {\n",
              "        const charts = await google.colab.kernel.invokeFunction(\n",
              "            'suggestCharts', [key], {});\n",
              "      } catch (error) {\n",
              "        console.error('Error during call to suggestCharts:', error);\n",
              "      }\n",
              "      quickchartButtonEl.classList.remove('colab-df-spinner');\n",
              "      quickchartButtonEl.classList.add('colab-df-quickchart-complete');\n",
              "    }\n",
              "    (() => {\n",
              "      let quickchartButtonEl =\n",
              "        document.querySelector('#df-43015a40-3d51-48f7-b17f-a4105cabd99d button');\n",
              "      quickchartButtonEl.style.display =\n",
              "        google.colab.kernel.accessAllowed ? 'block' : 'none';\n",
              "    })();\n",
              "  </script>\n",
              "</div>\n",
              "    </div>\n",
              "  </div>\n"
            ]
          },
          "metadata": {},
          "execution_count": 31
        }
      ]
    },
    {
      "cell_type": "code",
      "source": [
        "labels = df.loc[:, ~df.columns.str.contains('isMalnourished')]\n",
        "labels"
      ],
      "metadata": {
        "id": "kVuUW21ngz-j",
        "outputId": "d653dcb0-cdc6-411a-8ada-ff2ffd16b358",
        "colab": {
          "base_uri": "https://localhost:8080/",
          "height": 423
        }
      },
      "execution_count": null,
      "outputs": [
        {
          "output_type": "execute_result",
          "data": {
            "text/plain": [
              "     World Bank Income Classification  LLDC or SIDS  Severe Wasting  Wasting  \\\n",
              "0                                   1             0        2.003316     18.2   \n",
              "1                                   1             0        3.500000      8.6   \n",
              "2                                   1             0        4.000000      9.5   \n",
              "3                                   1             0        1.600000      5.1   \n",
              "4                                   2             0        1.800000      7.7   \n",
              "..                                ...           ...             ...      ...   \n",
              "992                                 2             0        0.500000      2.4   \n",
              "993                                 2             0        0.800000      3.2   \n",
              "994                                 2             0        0.700000      3.2   \n",
              "995                                 2             0        1.100000      3.3   \n",
              "996                                 2             0        0.300000      2.9   \n",
              "\n",
              "     Overweight  Stunting  \n",
              "0           6.5      53.2  \n",
              "1           4.6      59.3  \n",
              "2           5.3      40.4  \n",
              "3           4.1      38.2  \n",
              "4           1.7      61.1  \n",
              "..          ...       ...  \n",
              "992         3.5      35.1  \n",
              "993         5.8      32.2  \n",
              "994         3.6      27.6  \n",
              "995         5.6      27.1  \n",
              "996         2.5      23.5  \n",
              "\n",
              "[997 rows x 6 columns]"
            ],
            "text/html": [
              "\n",
              "  <div id=\"df-b3bc0f8c-a937-4b2b-879b-0310f9a2bf68\" class=\"colab-df-container\">\n",
              "    <div>\n",
              "<style scoped>\n",
              "    .dataframe tbody tr th:only-of-type {\n",
              "        vertical-align: middle;\n",
              "    }\n",
              "\n",
              "    .dataframe tbody tr th {\n",
              "        vertical-align: top;\n",
              "    }\n",
              "\n",
              "    .dataframe thead th {\n",
              "        text-align: right;\n",
              "    }\n",
              "</style>\n",
              "<table border=\"1\" class=\"dataframe\">\n",
              "  <thead>\n",
              "    <tr style=\"text-align: right;\">\n",
              "      <th></th>\n",
              "      <th>World Bank Income Classification</th>\n",
              "      <th>LLDC or SIDS</th>\n",
              "      <th>Severe Wasting</th>\n",
              "      <th>Wasting</th>\n",
              "      <th>Overweight</th>\n",
              "      <th>Stunting</th>\n",
              "    </tr>\n",
              "  </thead>\n",
              "  <tbody>\n",
              "    <tr>\n",
              "      <th>0</th>\n",
              "      <td>1</td>\n",
              "      <td>0</td>\n",
              "      <td>2.003316</td>\n",
              "      <td>18.2</td>\n",
              "      <td>6.5</td>\n",
              "      <td>53.2</td>\n",
              "    </tr>\n",
              "    <tr>\n",
              "      <th>1</th>\n",
              "      <td>1</td>\n",
              "      <td>0</td>\n",
              "      <td>3.500000</td>\n",
              "      <td>8.6</td>\n",
              "      <td>4.6</td>\n",
              "      <td>59.3</td>\n",
              "    </tr>\n",
              "    <tr>\n",
              "      <th>2</th>\n",
              "      <td>1</td>\n",
              "      <td>0</td>\n",
              "      <td>4.000000</td>\n",
              "      <td>9.5</td>\n",
              "      <td>5.3</td>\n",
              "      <td>40.4</td>\n",
              "    </tr>\n",
              "    <tr>\n",
              "      <th>3</th>\n",
              "      <td>1</td>\n",
              "      <td>0</td>\n",
              "      <td>1.600000</td>\n",
              "      <td>5.1</td>\n",
              "      <td>4.1</td>\n",
              "      <td>38.2</td>\n",
              "    </tr>\n",
              "    <tr>\n",
              "      <th>4</th>\n",
              "      <td>2</td>\n",
              "      <td>0</td>\n",
              "      <td>1.800000</td>\n",
              "      <td>7.7</td>\n",
              "      <td>1.7</td>\n",
              "      <td>61.1</td>\n",
              "    </tr>\n",
              "    <tr>\n",
              "      <th>...</th>\n",
              "      <td>...</td>\n",
              "      <td>...</td>\n",
              "      <td>...</td>\n",
              "      <td>...</td>\n",
              "      <td>...</td>\n",
              "      <td>...</td>\n",
              "    </tr>\n",
              "    <tr>\n",
              "      <th>992</th>\n",
              "      <td>2</td>\n",
              "      <td>0</td>\n",
              "      <td>0.500000</td>\n",
              "      <td>2.4</td>\n",
              "      <td>3.5</td>\n",
              "      <td>35.1</td>\n",
              "    </tr>\n",
              "    <tr>\n",
              "      <th>993</th>\n",
              "      <td>2</td>\n",
              "      <td>0</td>\n",
              "      <td>0.800000</td>\n",
              "      <td>3.2</td>\n",
              "      <td>5.8</td>\n",
              "      <td>32.2</td>\n",
              "    </tr>\n",
              "    <tr>\n",
              "      <th>994</th>\n",
              "      <td>2</td>\n",
              "      <td>0</td>\n",
              "      <td>0.700000</td>\n",
              "      <td>3.2</td>\n",
              "      <td>3.6</td>\n",
              "      <td>27.6</td>\n",
              "    </tr>\n",
              "    <tr>\n",
              "      <th>995</th>\n",
              "      <td>2</td>\n",
              "      <td>0</td>\n",
              "      <td>1.100000</td>\n",
              "      <td>3.3</td>\n",
              "      <td>5.6</td>\n",
              "      <td>27.1</td>\n",
              "    </tr>\n",
              "    <tr>\n",
              "      <th>996</th>\n",
              "      <td>2</td>\n",
              "      <td>0</td>\n",
              "      <td>0.300000</td>\n",
              "      <td>2.9</td>\n",
              "      <td>2.5</td>\n",
              "      <td>23.5</td>\n",
              "    </tr>\n",
              "  </tbody>\n",
              "</table>\n",
              "<p>997 rows × 6 columns</p>\n",
              "</div>\n",
              "    <div class=\"colab-df-buttons\">\n",
              "\n",
              "  <div class=\"colab-df-container\">\n",
              "    <button class=\"colab-df-convert\" onclick=\"convertToInteractive('df-b3bc0f8c-a937-4b2b-879b-0310f9a2bf68')\"\n",
              "            title=\"Convert this dataframe to an interactive table.\"\n",
              "            style=\"display:none;\">\n",
              "\n",
              "  <svg xmlns=\"http://www.w3.org/2000/svg\" height=\"24px\" viewBox=\"0 -960 960 960\">\n",
              "    <path d=\"M120-120v-720h720v720H120Zm60-500h600v-160H180v160Zm220 220h160v-160H400v160Zm0 220h160v-160H400v160ZM180-400h160v-160H180v160Zm440 0h160v-160H620v160ZM180-180h160v-160H180v160Zm440 0h160v-160H620v160Z\"/>\n",
              "  </svg>\n",
              "    </button>\n",
              "\n",
              "  <style>\n",
              "    .colab-df-container {\n",
              "      display:flex;\n",
              "      gap: 12px;\n",
              "    }\n",
              "\n",
              "    .colab-df-convert {\n",
              "      background-color: #E8F0FE;\n",
              "      border: none;\n",
              "      border-radius: 50%;\n",
              "      cursor: pointer;\n",
              "      display: none;\n",
              "      fill: #1967D2;\n",
              "      height: 32px;\n",
              "      padding: 0 0 0 0;\n",
              "      width: 32px;\n",
              "    }\n",
              "\n",
              "    .colab-df-convert:hover {\n",
              "      background-color: #E2EBFA;\n",
              "      box-shadow: 0px 1px 2px rgba(60, 64, 67, 0.3), 0px 1px 3px 1px rgba(60, 64, 67, 0.15);\n",
              "      fill: #174EA6;\n",
              "    }\n",
              "\n",
              "    .colab-df-buttons div {\n",
              "      margin-bottom: 4px;\n",
              "    }\n",
              "\n",
              "    [theme=dark] .colab-df-convert {\n",
              "      background-color: #3B4455;\n",
              "      fill: #D2E3FC;\n",
              "    }\n",
              "\n",
              "    [theme=dark] .colab-df-convert:hover {\n",
              "      background-color: #434B5C;\n",
              "      box-shadow: 0px 1px 3px 1px rgba(0, 0, 0, 0.15);\n",
              "      filter: drop-shadow(0px 1px 2px rgba(0, 0, 0, 0.3));\n",
              "      fill: #FFFFFF;\n",
              "    }\n",
              "  </style>\n",
              "\n",
              "    <script>\n",
              "      const buttonEl =\n",
              "        document.querySelector('#df-b3bc0f8c-a937-4b2b-879b-0310f9a2bf68 button.colab-df-convert');\n",
              "      buttonEl.style.display =\n",
              "        google.colab.kernel.accessAllowed ? 'block' : 'none';\n",
              "\n",
              "      async function convertToInteractive(key) {\n",
              "        const element = document.querySelector('#df-b3bc0f8c-a937-4b2b-879b-0310f9a2bf68');\n",
              "        const dataTable =\n",
              "          await google.colab.kernel.invokeFunction('convertToInteractive',\n",
              "                                                    [key], {});\n",
              "        if (!dataTable) return;\n",
              "\n",
              "        const docLinkHtml = 'Like what you see? Visit the ' +\n",
              "          '<a target=\"_blank\" href=https://colab.research.google.com/notebooks/data_table.ipynb>data table notebook</a>'\n",
              "          + ' to learn more about interactive tables.';\n",
              "        element.innerHTML = '';\n",
              "        dataTable['output_type'] = 'display_data';\n",
              "        await google.colab.output.renderOutput(dataTable, element);\n",
              "        const docLink = document.createElement('div');\n",
              "        docLink.innerHTML = docLinkHtml;\n",
              "        element.appendChild(docLink);\n",
              "      }\n",
              "    </script>\n",
              "  </div>\n",
              "\n",
              "\n",
              "<div id=\"df-65f2276c-e092-4cd6-ad08-6e6016546844\">\n",
              "  <button class=\"colab-df-quickchart\" onclick=\"quickchart('df-65f2276c-e092-4cd6-ad08-6e6016546844')\"\n",
              "            title=\"Suggest charts.\"\n",
              "            style=\"display:none;\">\n",
              "\n",
              "<svg xmlns=\"http://www.w3.org/2000/svg\" height=\"24px\"viewBox=\"0 0 24 24\"\n",
              "     width=\"24px\">\n",
              "    <g>\n",
              "        <path d=\"M19 3H5c-1.1 0-2 .9-2 2v14c0 1.1.9 2 2 2h14c1.1 0 2-.9 2-2V5c0-1.1-.9-2-2-2zM9 17H7v-7h2v7zm4 0h-2V7h2v10zm4 0h-2v-4h2v4z\"/>\n",
              "    </g>\n",
              "</svg>\n",
              "  </button>\n",
              "\n",
              "<style>\n",
              "  .colab-df-quickchart {\n",
              "      --bg-color: #E8F0FE;\n",
              "      --fill-color: #1967D2;\n",
              "      --hover-bg-color: #E2EBFA;\n",
              "      --hover-fill-color: #174EA6;\n",
              "      --disabled-fill-color: #AAA;\n",
              "      --disabled-bg-color: #DDD;\n",
              "  }\n",
              "\n",
              "  [theme=dark] .colab-df-quickchart {\n",
              "      --bg-color: #3B4455;\n",
              "      --fill-color: #D2E3FC;\n",
              "      --hover-bg-color: #434B5C;\n",
              "      --hover-fill-color: #FFFFFF;\n",
              "      --disabled-bg-color: #3B4455;\n",
              "      --disabled-fill-color: #666;\n",
              "  }\n",
              "\n",
              "  .colab-df-quickchart {\n",
              "    background-color: var(--bg-color);\n",
              "    border: none;\n",
              "    border-radius: 50%;\n",
              "    cursor: pointer;\n",
              "    display: none;\n",
              "    fill: var(--fill-color);\n",
              "    height: 32px;\n",
              "    padding: 0;\n",
              "    width: 32px;\n",
              "  }\n",
              "\n",
              "  .colab-df-quickchart:hover {\n",
              "    background-color: var(--hover-bg-color);\n",
              "    box-shadow: 0 1px 2px rgba(60, 64, 67, 0.3), 0 1px 3px 1px rgba(60, 64, 67, 0.15);\n",
              "    fill: var(--button-hover-fill-color);\n",
              "  }\n",
              "\n",
              "  .colab-df-quickchart-complete:disabled,\n",
              "  .colab-df-quickchart-complete:disabled:hover {\n",
              "    background-color: var(--disabled-bg-color);\n",
              "    fill: var(--disabled-fill-color);\n",
              "    box-shadow: none;\n",
              "  }\n",
              "\n",
              "  .colab-df-spinner {\n",
              "    border: 2px solid var(--fill-color);\n",
              "    border-color: transparent;\n",
              "    border-bottom-color: var(--fill-color);\n",
              "    animation:\n",
              "      spin 1s steps(1) infinite;\n",
              "  }\n",
              "\n",
              "  @keyframes spin {\n",
              "    0% {\n",
              "      border-color: transparent;\n",
              "      border-bottom-color: var(--fill-color);\n",
              "      border-left-color: var(--fill-color);\n",
              "    }\n",
              "    20% {\n",
              "      border-color: transparent;\n",
              "      border-left-color: var(--fill-color);\n",
              "      border-top-color: var(--fill-color);\n",
              "    }\n",
              "    30% {\n",
              "      border-color: transparent;\n",
              "      border-left-color: var(--fill-color);\n",
              "      border-top-color: var(--fill-color);\n",
              "      border-right-color: var(--fill-color);\n",
              "    }\n",
              "    40% {\n",
              "      border-color: transparent;\n",
              "      border-right-color: var(--fill-color);\n",
              "      border-top-color: var(--fill-color);\n",
              "    }\n",
              "    60% {\n",
              "      border-color: transparent;\n",
              "      border-right-color: var(--fill-color);\n",
              "    }\n",
              "    80% {\n",
              "      border-color: transparent;\n",
              "      border-right-color: var(--fill-color);\n",
              "      border-bottom-color: var(--fill-color);\n",
              "    }\n",
              "    90% {\n",
              "      border-color: transparent;\n",
              "      border-bottom-color: var(--fill-color);\n",
              "    }\n",
              "  }\n",
              "</style>\n",
              "\n",
              "  <script>\n",
              "    async function quickchart(key) {\n",
              "      const quickchartButtonEl =\n",
              "        document.querySelector('#' + key + ' button');\n",
              "      quickchartButtonEl.disabled = true;  // To prevent multiple clicks.\n",
              "      quickchartButtonEl.classList.add('colab-df-spinner');\n",
              "      try {\n",
              "        const charts = await google.colab.kernel.invokeFunction(\n",
              "            'suggestCharts', [key], {});\n",
              "      } catch (error) {\n",
              "        console.error('Error during call to suggestCharts:', error);\n",
              "      }\n",
              "      quickchartButtonEl.classList.remove('colab-df-spinner');\n",
              "      quickchartButtonEl.classList.add('colab-df-quickchart-complete');\n",
              "    }\n",
              "    (() => {\n",
              "      let quickchartButtonEl =\n",
              "        document.querySelector('#df-65f2276c-e092-4cd6-ad08-6e6016546844 button');\n",
              "      quickchartButtonEl.style.display =\n",
              "        google.colab.kernel.accessAllowed ? 'block' : 'none';\n",
              "    })();\n",
              "  </script>\n",
              "</div>\n",
              "    </div>\n",
              "  </div>\n"
            ]
          },
          "metadata": {},
          "execution_count": 32
        }
      ]
    },
    {
      "cell_type": "code",
      "source": [
        "df.info()"
      ],
      "metadata": {
        "id": "VstQ2i7U9Fth",
        "outputId": "59bd7c25-de93-41c1-8afc-684f3dd347fe",
        "colab": {
          "base_uri": "https://localhost:8080/"
        }
      },
      "execution_count": null,
      "outputs": [
        {
          "output_type": "stream",
          "name": "stdout",
          "text": [
            "<class 'pandas.core.frame.DataFrame'>\n",
            "RangeIndex: 997 entries, 0 to 996\n",
            "Data columns (total 7 columns):\n",
            " #   Column                            Non-Null Count  Dtype  \n",
            "---  ------                            --------------  -----  \n",
            " 0   World Bank Income Classification  997 non-null    int64  \n",
            " 1   LLDC or SIDS                      997 non-null    int64  \n",
            " 2   Severe Wasting                    997 non-null    float64\n",
            " 3   Wasting                           997 non-null    float64\n",
            " 4   Overweight                        997 non-null    float64\n",
            " 5   Stunting                          997 non-null    float64\n",
            " 6   isMalnourished                    997 non-null    int64  \n",
            "dtypes: float64(4), int64(3)\n",
            "memory usage: 54.6 KB\n"
          ]
        }
      ]
    },
    {
      "cell_type": "code",
      "source": [
        "target = df['isMalnourished']\n",
        "target"
      ],
      "metadata": {
        "id": "zinzVeNqhGiH",
        "outputId": "e609c546-de88-4879-a588-461c5b558590",
        "colab": {
          "base_uri": "https://localhost:8080/"
        }
      },
      "execution_count": null,
      "outputs": [
        {
          "output_type": "execute_result",
          "data": {
            "text/plain": [
              "0      0\n",
              "1      0\n",
              "2      0\n",
              "3      0\n",
              "4      0\n",
              "      ..\n",
              "992    1\n",
              "993    1\n",
              "994    1\n",
              "995    1\n",
              "996    1\n",
              "Name: isMalnourished, Length: 997, dtype: int64"
            ]
          },
          "metadata": {},
          "execution_count": 34
        }
      ]
    },
    {
      "cell_type": "code",
      "source": [
        "train_X, test_X, train_Y, test_Y = train_test_split(labels,target,test_size = 0.2, random_state=42)"
      ],
      "metadata": {
        "id": "SGjAzaAX3hXt"
      },
      "execution_count": null,
      "outputs": []
    },
    {
      "cell_type": "code",
      "source": [
        "train_X.shape"
      ],
      "metadata": {
        "id": "5__cj0IfDF5i",
        "outputId": "18d6131d-3726-4187-aa3d-51dedad6f669",
        "colab": {
          "base_uri": "https://localhost:8080/"
        }
      },
      "execution_count": null,
      "outputs": [
        {
          "output_type": "execute_result",
          "data": {
            "text/plain": [
              "(797, 6)"
            ]
          },
          "metadata": {},
          "execution_count": 36
        }
      ]
    },
    {
      "cell_type": "code",
      "source": [
        "train_Y"
      ],
      "metadata": {
        "id": "8A9IHIZxDV78",
        "outputId": "5ec51400-74cd-44df-856a-788b29cd7285",
        "colab": {
          "base_uri": "https://localhost:8080/"
        }
      },
      "execution_count": null,
      "outputs": [
        {
          "output_type": "execute_result",
          "data": {
            "text/plain": [
              "743    0\n",
              "286    0\n",
              "165    1\n",
              "958    0\n",
              "493    0\n",
              "      ..\n",
              "106    1\n",
              "270    0\n",
              "860    1\n",
              "435    1\n",
              "102    1\n",
              "Name: isMalnourished, Length: 797, dtype: int64"
            ]
          },
          "metadata": {},
          "execution_count": 37
        }
      ]
    },
    {
      "cell_type": "code",
      "source": [
        "df.info()"
      ],
      "metadata": {
        "id": "N09KikPEuOiC",
        "colab": {
          "base_uri": "https://localhost:8080/"
        },
        "outputId": "8cb3cb31-eab3-4f2e-ad96-19451ee39e29"
      },
      "execution_count": null,
      "outputs": [
        {
          "output_type": "stream",
          "name": "stdout",
          "text": [
            "<class 'pandas.core.frame.DataFrame'>\n",
            "RangeIndex: 997 entries, 0 to 996\n",
            "Data columns (total 7 columns):\n",
            " #   Column                            Non-Null Count  Dtype  \n",
            "---  ------                            --------------  -----  \n",
            " 0   World Bank Income Classification  997 non-null    int64  \n",
            " 1   LLDC or SIDS                      997 non-null    int64  \n",
            " 2   Severe Wasting                    997 non-null    float64\n",
            " 3   Wasting                           997 non-null    float64\n",
            " 4   Overweight                        997 non-null    float64\n",
            " 5   Stunting                          997 non-null    float64\n",
            " 6   isMalnourished                    997 non-null    int64  \n",
            "dtypes: float64(4), int64(3)\n",
            "memory usage: 54.6 KB\n"
          ]
        }
      ]
    },
    {
      "cell_type": "markdown",
      "source": [
        "#logistic regression\n"
      ],
      "metadata": {
        "id": "zOavUhlG-q1Y"
      }
    },
    {
      "cell_type": "code",
      "source": [
        "model1 = LogisticRegression()\n",
        "model1.fit(train_X, train_Y)\n",
        "logistic_Prediction = model1.predict(test_X)\n",
        "precision = precision_score(test_Y, logistic_Prediction)\n",
        "recall = recall_score(test_Y, logistic_Prediction)\n",
        "f1 = f1_score(test_Y, logistic_Prediction)\n",
        "acc = accuracy_score(test_Y, logistic_Prediction)\n",
        "print(\"Accuracy: \", acc)\n",
        "print(\"Precision: \", precision)\n",
        "print(\"Recall: \", recall)\n",
        "print(\"F1-score: \", f1)"
      ],
      "metadata": {
        "id": "MTnqWgGm_BKA",
        "outputId": "32045be6-c052-4424-aa80-7e9b36df7ab0",
        "colab": {
          "base_uri": "https://localhost:8080/"
        }
      },
      "execution_count": null,
      "outputs": [
        {
          "output_type": "stream",
          "name": "stdout",
          "text": [
            "Accuracy:  0.94\n",
            "Precision:  0.96\n",
            "Recall:  0.9230769230769231\n",
            "F1-score:  0.9411764705882353\n"
          ]
        }
      ]
    },
    {
      "cell_type": "markdown",
      "source": [
        "#knn"
      ],
      "metadata": {
        "id": "QvA-JM62rPjQ"
      }
    },
    {
      "cell_type": "code",
      "source": [
        "knn = KNeighborsClassifier(n_neighbors=5,  weights='distance')\n",
        "knn = knn.fit(train_X, train_Y)\n",
        "y_pred_knn = knn.predict(test_X)\n",
        "a = accuracy_score(test_Y,y_pred_knn)\n",
        "precision = precision_score(test_Y, logistic_Prediction)\n",
        "recall = recall_score(test_Y, logistic_Prediction)\n",
        "f1 = f1_score(test_Y, logistic_Prediction)\n",
        "print(\"Accuracy: \", a)\n",
        "print(\"Precision: \", precision)\n",
        "print(\"Recall: \", recall)\n",
        "print(\"F1-score: \", f1)"
      ],
      "metadata": {
        "id": "s-CoEUq4KAhF",
        "outputId": "66abe266-bfb3-4a50-8a8a-f2e6131953b7",
        "colab": {
          "base_uri": "https://localhost:8080/"
        }
      },
      "execution_count": null,
      "outputs": [
        {
          "output_type": "stream",
          "name": "stdout",
          "text": [
            "Accuracy:  0.95\n",
            "Precision:  0.96\n",
            "Recall:  0.9230769230769231\n",
            "F1-score:  0.9411764705882353\n"
          ]
        }
      ]
    },
    {
      "cell_type": "markdown",
      "source": [
        "#Random Forest"
      ],
      "metadata": {
        "id": "UwS-KHeUv7lj"
      }
    },
    {
      "cell_type": "code",
      "source": [
        "model3 = RandomForestClassifier(n_estimators = 10, criterion = \"entropy\", max_depth = 2)\n",
        "model3.fit(train_X, train_Y)\n",
        "y_pred = model3.predict(test_X)\n",
        "acc = accuracy_score(test_Y, y_pred)\n",
        "precision = precision_score(test_Y, logistic_Prediction)\n",
        "recall = recall_score(test_Y, logistic_Prediction)\n",
        "f1 = f1_score(test_Y, logistic_Prediction)\n",
        "print(\"Accuracy: \", acc)\n",
        "print(\"Precision: \", precision)\n",
        "print(\"Recall: \", recall)\n",
        "print(\"F1-score: \", f1)"
      ],
      "metadata": {
        "id": "S88xeradv7V2",
        "outputId": "54cf85c6-ba5c-4bb7-ab34-8436ab1a8f07",
        "colab": {
          "base_uri": "https://localhost:8080/"
        }
      },
      "execution_count": null,
      "outputs": [
        {
          "output_type": "stream",
          "name": "stdout",
          "text": [
            "Accuracy:  0.945\n",
            "Precision:  0.96\n",
            "Recall:  0.9230769230769231\n",
            "F1-score:  0.9411764705882353\n"
          ]
        }
      ]
    },
    {
      "cell_type": "code",
      "source": [
        "cm = confusion_matrix(test_Y, y_pred)\n",
        "cm"
      ],
      "metadata": {
        "id": "C_4s8jzVpDWi",
        "outputId": "5075319d-3522-407e-b41c-d441b3b1fda3",
        "colab": {
          "base_uri": "https://localhost:8080/"
        }
      },
      "execution_count": null,
      "outputs": [
        {
          "output_type": "execute_result",
          "data": {
            "text/plain": [
              "array([[96,  0],\n",
              "       [11, 93]])"
            ]
          },
          "metadata": {},
          "execution_count": 42
        }
      ]
    },
    {
      "cell_type": "code",
      "source": [
        "%matplotlib inline\n",
        "plt.figure(figsize = (10, 7))\n",
        "sns.heatmap(cm, annot = True)\n",
        "plt.xlabel('Predicted')\n",
        "plt.ylabel('Actual')"
      ],
      "metadata": {
        "id": "76A731o09YvD",
        "outputId": "e8e73fbe-f37a-4e97-81cb-dbde97985f2a",
        "colab": {
          "base_uri": "https://localhost:8080/",
          "height": 636
        }
      },
      "execution_count": null,
      "outputs": [
        {
          "output_type": "execute_result",
          "data": {
            "text/plain": [
              "Text(95.72222222222221, 0.5, 'Actual')"
            ]
          },
          "metadata": {},
          "execution_count": 43
        },
        {
          "output_type": "display_data",
          "data": {
            "text/plain": [
              "<Figure size 1000x700 with 2 Axes>"
            ],
            "image/png": "[encoded data removed]"
          },
          "metadata": {}
        }
      ]
    },
    {
      "cell_type": "markdown",
      "source": [
        "#DECISION TREES"
      ],
      "metadata": {
        "id": "ANRVpF7laInN"
      }
    },
    {
      "cell_type": "code",
      "source": [
        "model4 = DecisionTreeClassifier(splitter = 'random', max_depth = 3)\n",
        "model4.fit(train_X, train_Y)\n",
        "y_pred = model3.predict(test_X)\n",
        "acc = accuracy_score(test_Y, y_pred)\n",
        "print(acc)"
      ],
      "metadata": {
        "id": "9cASP8dHaHrV",
        "outputId": "42f3c588-39fc-49a8-cce3-897e9c30e46b",
        "colab": {
          "base_uri": "https://localhost:8080/"
        }
      },
      "execution_count": null,
      "outputs": [
        {
          "output_type": "stream",
          "name": "stdout",
          "text": [
            "0.945\n"
          ]
        }
      ]
    },
    {
      "cell_type": "code",
      "source": [
        "cm = confusion_matrix(test_Y, y_pred)\n",
        "cm"
      ],
      "metadata": {
        "colab": {
          "base_uri": "https://localhost:8080/"
        },
        "id": "J-1GVAQ_oaWF",
        "outputId": "9739744a-d328-47aa-8f1d-f1744dcab7a0"
      },
      "execution_count": null,
      "outputs": [
        {
          "output_type": "execute_result",
          "data": {
            "text/plain": [
              "array([[96,  0],\n",
              "       [11, 93]])"
            ]
          },
          "metadata": {},
          "execution_count": 45
        }
      ]
    },
    {
      "cell_type": "code",
      "source": [
        "def isOverfit(sc):\n",
        "  mean_score = sc.mean()\n",
        "  std_score = sc.std()\n",
        "  if mean_score - 2 * std_score > 0.9:\n",
        "    print(\"The model is overfitting.\")\n",
        "  else:\n",
        "    print(\"The model is not overfitting.\")"
      ],
      "metadata": {
        "id": "nQTaPIf5ZSk-"
      },
      "execution_count": null,
      "outputs": []
    },
    {
      "cell_type": "code",
      "source": [
        "scores1 = cross_val_score(model1, test_X, test_Y, cv=5)\n",
        "scores2 = cross_val_score(knn, test_X, test_Y, cv=5)\n",
        "scores3 = cross_val_score(model3, test_X, test_Y, cv=5)\n",
        "scores4 = cross_val_score(model4, test_X, test_Y, cv=5)\n",
        "isOverfit(scores1)\n",
        "isOverfit(scores2)\n",
        "isOverfit(scores3)\n",
        "isOverfit(scores4)"
      ],
      "metadata": {
        "id": "94tMT8ByZnKh",
        "outputId": "b194d53a-7f9c-4475-8bce-460fff4a1c41",
        "colab": {
          "base_uri": "https://localhost:8080/"
        }
      },
      "execution_count": null,
      "outputs": [
        {
          "output_type": "stream",
          "name": "stdout",
          "text": [
            "The model is not overfitting.\n",
            "The model is not overfitting.\n",
            "The model is overfitting.\n",
            "The model is not overfitting.\n"
          ]
        }
      ]
    },
    {
      "cell_type": "code",
      "source": [
        "k = LogisticRegression()\n",
        "k.fit(labels, target)\n"
      ],
      "metadata": {
        "id": "qIivkZjzr4ct",
        "outputId": "d711d8a3-c5ec-417f-cefa-e5289ba70f36",
        "colab": {
          "base_uri": "https://localhost:8080/",
          "height": 74
        }
      },
      "execution_count": null,
      "outputs": [
        {
          "output_type": "execute_result",
          "data": {
            "text/plain": [
              "LogisticRegression()"
            ],
            "text/html": [
              "<style>#sk-container-id-1 {color: black;background-color: white;}#sk-container-id-1 pre{padding: 0;}#sk-container-id-1 div.sk-toggleable {background-color: white;}#sk-container-id-1 label.sk-toggleable__label {cursor: pointer;display: block;width: 100%;margin-bottom: 0;padding: 0.3em;box-sizing: border-box;text-align: center;}#sk-container-id-1 label.sk-toggleable__label-arrow:before {content: \"▸\";float: left;margin-right: 0.25em;color: #696969;}#sk-container-id-1 label.sk-toggleable__label-arrow:hover:before {color: black;}#sk-container-id-1 div.sk-estimator:hover label.sk-toggleable__label-arrow:before {color: black;}#sk-container-id-1 div.sk-toggleable__content {max-height: 0;max-width: 0;overflow: hidden;text-align: left;background-color: #f0f8ff;}#sk-container-id-1 div.sk-toggleable__content pre {margin: 0.2em;color: black;border-radius: 0.25em;background-color: #f0f8ff;}#sk-container-id-1 input.sk-toggleable__control:checked~div.sk-toggleable__content {max-height: 200px;max-width: 100%;overflow: auto;}#sk-container-id-1 input.sk-toggleable__control:checked~label.sk-toggleable__label-arrow:before {content: \"▾\";}#sk-container-id-1 div.sk-estimator input.sk-toggleable__control:checked~label.sk-toggleable__label {background-color: #d4ebff;}#sk-container-id-1 div.sk-label input.sk-toggleable__control:checked~label.sk-toggleable__label {background-color: #d4ebff;}#sk-container-id-1 input.sk-hidden--visually {border: 0;clip: rect(1px 1px 1px 1px);clip: rect(1px, 1px, 1px, 1px);height: 1px;margin: -1px;overflow: hidden;padding: 0;position: absolute;width: 1px;}#sk-container-id-1 div.sk-estimator {font-family: monospace;background-color: #f0f8ff;border: 1px dotted black;border-radius: 0.25em;box-sizing: border-box;margin-bottom: 0.5em;}#sk-container-id-1 div.sk-estimator:hover {background-color: #d4ebff;}#sk-container-id-1 div.sk-parallel-item::after {content: \"\";width: 100%;border-bottom: 1px solid gray;flex-grow: 1;}#sk-container-id-1 div.sk-label:hover label.sk-toggleable__label {background-color: #d4ebff;}#sk-container-id-1 div.sk-serial::before {content: \"\";position: absolute;border-left: 1px solid gray;box-sizing: border-box;top: 0;bottom: 0;left: 50%;z-index: 0;}#sk-container-id-1 div.sk-serial {display: flex;flex-direction: column;align-items: center;background-color: white;padding-right: 0.2em;padding-left: 0.2em;position: relative;}#sk-container-id-1 div.sk-item {position: relative;z-index: 1;}#sk-container-id-1 div.sk-parallel {display: flex;align-items: stretch;justify-content: center;background-color: white;position: relative;}#sk-container-id-1 div.sk-item::before, #sk-container-id-1 div.sk-parallel-item::before {content: \"\";position: absolute;border-left: 1px solid gray;box-sizing: border-box;top: 0;bottom: 0;left: 50%;z-index: -1;}#sk-container-id-1 div.sk-parallel-item {display: flex;flex-direction: column;z-index: 1;position: relative;background-color: white;}#sk-container-id-1 div.sk-parallel-item:first-child::after {align-self: flex-end;width: 50%;}#sk-container-id-1 div.sk-parallel-item:last-child::after {align-self: flex-start;width: 50%;}#sk-container-id-1 div.sk-parallel-item:only-child::after {width: 0;}#sk-container-id-1 div.sk-dashed-wrapped {border: 1px dashed gray;margin: 0 0.4em 0.5em 0.4em;box-sizing: border-box;padding-bottom: 0.4em;background-color: white;}#sk-container-id-1 div.sk-label label {font-family: monospace;font-weight: bold;display: inline-block;line-height: 1.2em;}#sk-container-id-1 div.sk-label-container {text-align: center;}#sk-container-id-1 div.sk-container {/* jupyter's `normalize.less` sets `[hidden] { display: none; }` but bootstrap.min.css set `[hidden] { display: none !important; }` so we also need the `!important` here to be able to override the default hidden behavior on the sphinx rendered scikit-learn.org. See: https://github.com/scikit-learn/scikit-learn/issues/21755 */display: inline-block !important;position: relative;}#sk-container-id-1 div.sk-text-repr-fallback {display: none;}</style><div id=\"sk-container-id-1\" class=\"sk-top-container\"><div class=\"sk-text-repr-fallback\"><pre>LogisticRegression()</pre><b>In a Jupyter environment, please rerun this cell to show the HTML representation or trust the notebook. <br />On GitHub, the HTML representation is unable to render, please try loading this page with nbviewer.org.</b></div><div class=\"sk-container\" hidden><div class=\"sk-item\"><div class=\"sk-estimator sk-toggleable\"><input class=\"sk-toggleable__control sk-hidden--visually\" id=\"sk-estimator-id-1\" type=\"checkbox\" checked><label for=\"sk-estimator-id-1\" class=\"sk-toggleable__label sk-toggleable__label-arrow\">LogisticRegression</label><div class=\"sk-toggleable__content\"><pre>LogisticRegression()</pre></div></div></div></div></div>"
            ]
          },
          "metadata": {},
          "execution_count": 48
        }
      ]
    },
    {
      "cell_type": "code",
      "source": [
        "joblib.dump(k, \"JME_Country_Estimates_April_2021.xlsx\")\n",
        "model = joblib.load(\"JME_Country_Estimates_April_2021.xlsx\")\n"
      ],
      "metadata": {
        "id": "d8ON4GkJs9Dm"
      },
      "execution_count": null,
      "outputs": []
    },
    {
      "cell_type": "code",
      "source": [
        "pred = model.predict([[1, 0, 2.003316, 18.2, 6.5, 53.2]])\n",
        "if pred == 1:\n",
        "  print('Malnourished')\n",
        "else:\n",
        "  print('Not Malnourished')"
      ],
      "metadata": {
        "colab": {
          "base_uri": "https://localhost:8080/"
        },
        "id": "hO5UVniyuH2x",
        "outputId": "8f8eb190-464c-4ea8-d00b-b0059440c0e0"
      },
      "execution_count": null,
      "outputs": [
        {
          "output_type": "stream",
          "name": "stdout",
          "text": [
            "Not Malnourished\n"
          ]
        },
        {
          "output_type": "stream",
          "name": "stderr",
          "text": [
            "/usr/local/lib/python3.10/dist-packages/sklearn/base.py:439: UserWarning: X does not have valid feature names, but LogisticRegression was fitted with feature names\n",
            "  warnings.warn(\n"
          ]
        }
      ]
    },
    {
      "cell_type": "code",
      "source": [],
      "metadata": {
        "id": "07OTPU_Qf6kP"
      },
      "execution_count": null,
      "outputs": []
    },
    {
      "cell_type": "code",
      "source": [
        "mapping1 = dict(zip(le_WorldBankIncomeClassification.classes_, range(0, len(le_WorldBankIncomeClassification.classes_))))\n",
        "with open('mapping1.pkl', 'wb') as f1:\n",
        "  pickle.dump(mapping1, f1)"
      ],
      "metadata": {
        "id": "Z_d17O-if4A3"
      },
      "execution_count": null,
      "outputs": []
    },
    {
      "cell_type": "code",
      "source": [
        "mapping2 = dict(zip(le_LLDCorSIDS.classes_, range(0, len(le_LLDCorSIDS.classes_))))\n",
        "with open('mapping2.pkl', 'wb') as f2:\n",
        "  pickle.dump(mapping2, f2)"
      ],
      "metadata": {
        "id": "TxU2vbWpf7WF"
      },
      "execution_count": null,
      "outputs": []
    },
    {
      "cell_type": "code",
      "source": [
        "def Income_class(income, LOS, stunting, wasting, overweight, severewasting):\n",
        "  selected_option = income\n",
        "  inc = mapping1[income]\n",
        "  los  = mapping2[LOS]\n",
        "  model = joblib.load(\"child_malnutrition\")\n",
        "  pred = model.predict([[inc, los, severewasting, wasting, overweight,stunting]])\n",
        "  if pred == 1:\n",
        "    return 'Malnourished'\n",
        "  else:\n",
        "    return 'Not Malnourished'\n",
        "\n",
        "Income_dropdown = ['Low Income', 'Lower Middle Income', 'Upper Middle Income','High Income']\n",
        "LOS = gr.inputs.Radio(['Landlocked developing countries (LLDCs)', 'Small island developing States (SIDS)'], label=\"LLDC or SIDS\")\n",
        "stunting = gr.inputs.Number(label=\"Stunting\")\n",
        "wasting = gr.inputs.Number(label=\"Wasting\")\n",
        "overweight = gr.inputs.Number(label=\"Overweight\")\n",
        "severewasting = gr.inputs.Number(label=\"SevereWasting\")\n",
        "drop_I = gr.inputs.Dropdown(choices=Income_dropdown)\n",
        "interface = gr.Interface(fn = Income_class,inputs = [drop_I, LOS, stunting, wasting, overweight, severewasting ],  outputs = \"text\")\n",
        "interface.launch()"
      ],
      "metadata": {
        "colab": {
          "base_uri": "https://localhost:8080/",
          "height": 1000
        },
        "id": "JqiWzo1JfUV1",
        "outputId": "1719da11-93a1-4cb0-81db-77bc8d66bad5"
      },
      "execution_count": null,
      "outputs": [
        {
          "output_type": "stream",
          "name": "stderr",
          "text": [
            "<ipython-input-67-6e1eef63d6eb>:13: GradioDeprecationWarning: Usage of gradio.inputs is deprecated, and will not be supported in the future, please import your component from gradio.components\n",
            "  LOS = gr.inputs.Radio(['Landlocked developing countries (LLDCs)', 'Small island developing States (SIDS)'], label=\"LLDC or SIDS\")\n",
            "<ipython-input-67-6e1eef63d6eb>:13: GradioDeprecationWarning: `optional` parameter is deprecated, and it has no effect\n",
            "  LOS = gr.inputs.Radio(['Landlocked developing countries (LLDCs)', 'Small island developing States (SIDS)'], label=\"LLDC or SIDS\")\n",
            "<ipython-input-67-6e1eef63d6eb>:14: GradioDeprecationWarning: Usage of gradio.inputs is deprecated, and will not be supported in the future, please import your component from gradio.components\n",
            "  stunting = gr.inputs.Number(label=\"Stunting\")\n",
            "<ipython-input-67-6e1eef63d6eb>:14: GradioDeprecationWarning: `optional` parameter is deprecated, and it has no effect\n",
            "  stunting = gr.inputs.Number(label=\"Stunting\")\n",
            "<ipython-input-67-6e1eef63d6eb>:15: GradioDeprecationWarning: Usage of gradio.inputs is deprecated, and will not be supported in the future, please import your component from gradio.components\n",
            "  wasting = gr.inputs.Number(label=\"Wasting\")\n",
            "<ipython-input-67-6e1eef63d6eb>:15: GradioDeprecationWarning: `optional` parameter is deprecated, and it has no effect\n",
            "  wasting = gr.inputs.Number(label=\"Wasting\")\n",
            "<ipython-input-67-6e1eef63d6eb>:16: GradioDeprecationWarning: Usage of gradio.inputs is deprecated, and will not be supported in the future, please import your component from gradio.components\n",
            "  overweight = gr.inputs.Number(label=\"Overweight\")\n",
            "<ipython-input-67-6e1eef63d6eb>:16: GradioDeprecationWarning: `optional` parameter is deprecated, and it has no effect\n",
            "  overweight = gr.inputs.Number(label=\"Overweight\")\n",
            "<ipython-input-67-6e1eef63d6eb>:17: GradioDeprecationWarning: Usage of gradio.inputs is deprecated, and will not be supported in the future, please import your component from gradio.components\n",
            "  severewasting = gr.inputs.Number(label=\"SevereWasting\")\n",
            "<ipython-input-67-6e1eef63d6eb>:17: GradioDeprecationWarning: `optional` parameter is deprecated, and it has no effect\n",
            "  severewasting = gr.inputs.Number(label=\"SevereWasting\")\n",
            "<ipython-input-67-6e1eef63d6eb>:18: GradioDeprecationWarning: Usage of gradio.inputs is deprecated, and will not be supported in the future, please import your component from gradio.components\n",
            "  drop_I = gr.inputs.Dropdown(choices=Income_dropdown)\n",
            "<ipython-input-67-6e1eef63d6eb>:18: GradioDeprecationWarning: `optional` parameter is deprecated, and it has no effect\n",
            "  drop_I = gr.inputs.Dropdown(choices=Income_dropdown)\n"
          ]
        },
        {
          "output_type": "stream",
          "name": "stdout",
          "text": [
            "Colab notebook detected. To show errors in colab notebook, set debug=True in launch()\n",
            "Note: opening Chrome Inspector may crash demo inside Colab notebooks.\n",
            "\n",
            "To create a public link, set `share=True` in `launch()`.\n"
          ]
        },
        {
          "output_type": "display_data",
          "data": {
            "text/plain": [
              "<IPython.core.display.Javascript object>"
            ],
            "application/javascript": [
              "(async (port, path, width, height, cache, element) => {\n",
              "                        if (!google.colab.kernel.accessAllowed && !cache) {\n",
              "                            return;\n",
              "                        }\n",
              "                        element.appendChild(document.createTextNode(''));\n",
              "                        const url = await google.colab.kernel.proxyPort(port, {cache});\n",
              "\n",
              "                        const external_link = document.createElement('div');\n",
              "                        external_link.innerHTML = `\n",
              "                            <div style=\"font-family: monospace; margin-bottom: 0.5rem\">\n",
              "                                Running on <a href=${new URL(path, url).toString()} target=\"_blank\">\n",
              "                                    https://localhost:${port}${path}\n",
              "                                </a>\n",
              "                            </div>\n",
              "                        `;\n",
              "                        element.appendChild(external_link);\n",
              "\n",
              "                        const iframe = document.createElement('iframe');\n",
              "                        iframe.src = new URL(path, url).toString();\n",
              "                        iframe.height = height;\n",
              "                        iframe.allow = \"autoplay; camera; microphone; clipboard-read; clipboard-write;\"\n",
              "                        iframe.width = width;\n",
              "                        iframe.style.border = 0;\n",
              "                        element.appendChild(iframe);\n",
              "                    })(7860, \"/\", \"100%\", 500, false, window.element)"
            ]
          },
          "metadata": {}
        },
        {
          "output_type": "execute_result",
          "data": {
            "text/plain": []
          },
          "metadata": {},
          "execution_count": 67
        }
      ]
    },
    {
      "cell_type": "code",
      "source": [
        "#!pip install -q gradio"
      ],
      "metadata": {
        "id": "dIoT1cP2gOdV"
      },
      "execution_count": null,
      "outputs": []
    }
  ]
}